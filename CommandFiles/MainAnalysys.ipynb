{
 "cells": [
  {
   "cell_type": "code",
   "execution_count": 1,
   "metadata": {},
   "outputs": [],
   "source": [
    "import pandas as pd\n",
    "import matplotlib.pyplot as plt\n",
    "from cmdstanpy import CmdStanModel"
   ]
  },
  {
   "cell_type": "code",
   "execution_count": 2,
   "metadata": {},
   "outputs": [],
   "source": [
    "# data\n",
    "df = pd.read_csv('../AnalysisData/all_data.csv')"
   ]
  },
  {
   "cell_type": "code",
   "execution_count": 3,
   "metadata": {},
   "outputs": [
    {
     "data": {
      "text/html": [
       "<div>\n",
       "<style scoped>\n",
       "    .dataframe tbody tr th:only-of-type {\n",
       "        vertical-align: middle;\n",
       "    }\n",
       "\n",
       "    .dataframe tbody tr th {\n",
       "        vertical-align: top;\n",
       "    }\n",
       "\n",
       "    .dataframe thead th {\n",
       "        text-align: right;\n",
       "    }\n",
       "</style>\n",
       "<table border=\"1\" class=\"dataframe\">\n",
       "  <thead>\n",
       "    <tr style=\"text-align: right;\">\n",
       "      <th></th>\n",
       "      <th>Unnamed: 0</th>\n",
       "      <th>Year</th>\n",
       "      <th>Sales of cigarettes per adult per day</th>\n",
       "      <th>death_rate_per_100k</th>\n",
       "      <th>Population</th>\n",
       "    </tr>\n",
       "  </thead>\n",
       "  <tbody>\n",
       "    <tr>\n",
       "      <th>0</th>\n",
       "      <td>0</td>\n",
       "      <td>1950</td>\n",
       "      <td>9.3</td>\n",
       "      <td>23.90</td>\n",
       "      <td>158804397</td>\n",
       "    </tr>\n",
       "    <tr>\n",
       "      <th>1</th>\n",
       "      <td>1</td>\n",
       "      <td>1951</td>\n",
       "      <td>9.8</td>\n",
       "      <td>25.08</td>\n",
       "      <td>160872264</td>\n",
       "    </tr>\n",
       "    <tr>\n",
       "      <th>2</th>\n",
       "      <td>2</td>\n",
       "      <td>1952</td>\n",
       "      <td>10.0</td>\n",
       "      <td>26.90</td>\n",
       "      <td>163266026</td>\n",
       "    </tr>\n",
       "    <tr>\n",
       "      <th>3</th>\n",
       "      <td>3</td>\n",
       "      <td>1953</td>\n",
       "      <td>9.7</td>\n",
       "      <td>28.76</td>\n",
       "      <td>165909996</td>\n",
       "    </tr>\n",
       "    <tr>\n",
       "      <th>4</th>\n",
       "      <td>4</td>\n",
       "      <td>1954</td>\n",
       "      <td>9.2</td>\n",
       "      <td>29.73</td>\n",
       "      <td>168736390</td>\n",
       "    </tr>\n",
       "  </tbody>\n",
       "</table>\n",
       "</div>"
      ],
      "text/plain": [
       "   Unnamed: 0  Year  Sales of cigarettes per adult per day  \\\n",
       "0           0  1950                                    9.3   \n",
       "1           1  1951                                    9.8   \n",
       "2           2  1952                                   10.0   \n",
       "3           3  1953                                    9.7   \n",
       "4           4  1954                                    9.2   \n",
       "\n",
       "   death_rate_per_100k  Population  \n",
       "0                23.90   158804397  \n",
       "1                25.08   160872264  \n",
       "2                26.90   163266026  \n",
       "3                28.76   165909996  \n",
       "4                29.73   168736390  "
      ]
     },
     "execution_count": 3,
     "metadata": {},
     "output_type": "execute_result"
    }
   ],
   "source": [
    "df.head()"
   ]
  },
  {
   "cell_type": "code",
   "execution_count": 6,
   "metadata": {},
   "outputs": [],
   "source": [
    "df['Sum of sales'] =df[\"Sales of cigarettes per adult per day\"].rolling(15, min_periods=1).sum()"
   ]
  },
  {
   "cell_type": "code",
   "execution_count": null,
   "metadata": {},
   "outputs": [],
   "source": [
    "\n",
    "plt.plot(df[\"Year\"], df['Sum of sales'] )\n",
    "plt.title(\"Cigarette sales summed over 15 years\")\n",
    "plt.xlabel(\"Year\")\n",
    "plt.ylabel(\"Sales per adult per day\")\n",
    "plt.show()\n",
    "\n",
    "plt.plot(df[\"Year\"], df[\"Sales of cigarettes per adult per day\"] )\n",
    "plt.title(\"Cigarette sales data\")\n",
    "plt.xlabel(\"Year\")\n",
    "plt.ylabel(\"Sales per adult per day\")\n",
    "plt.show()\n",
    "\n",
    "\n",
    "plt.plot(df[\"Year\"], df[\"death_rate_per_100k\"])\n",
    "plt.title(\"death_rate_per_100k\")\n",
    "plt.xlabel(\"Year\")\n",
    "plt.ylabel(\"death_rate_per_100k\")\n",
    "plt.show()"
   ]
  },
  {
   "cell_type": "code",
   "execution_count": null,
   "metadata": {},
   "outputs": [],
   "source": [
    "plt.plot(df[\"Year\"], df[\"death_rate_per_100k\"])\n",
    "plt.plot(df[\"Year\"], df['Sum of sales'] )\n",
    "plt.title(\"Cigarette sales data\")\n",
    "plt.xlabel(\"Year\")\n",
    "plt.ylabel(\"Sales per adult per day\")\n",
    "plt.show()"
   ]
  },
  {
   "cell_type": "code",
   "execution_count": null,
   "metadata": {},
   "outputs": [],
   "source": [
    "input_data = {'N': 5,\n",
    "              'y': [],\n",
    "              'pop': []}\n",
    "model = CmdStanModel(stan_file='stan_1.stan')\n",
    "result = model.sample(data=input_data, chains = 4)"
   ]
  },
  {
   "cell_type": "code",
   "execution_count": null,
   "metadata": {},
   "outputs": [],
   "source": []
  }
 ],
 "metadata": {
  "interpreter": {
   "hash": "c6b78216d01b078b67c913f155c040603b38d46829e7619682caa40b07c23cb5"
  },
  "kernelspec": {
   "display_name": "Python 3.10.2 ('cmdstan')",
   "language": "python",
   "name": "python3"
  },
  "language_info": {
   "codemirror_mode": {
    "name": "ipython",
    "version": 3
   },
   "file_extension": ".py",
   "mimetype": "text/x-python",
   "name": "python",
   "nbconvert_exporter": "python",
   "pygments_lexer": "ipython3",
   "version": "3.10.4"
  },
  "orig_nbformat": 4
 },
 "nbformat": 4,
 "nbformat_minor": 2
}
