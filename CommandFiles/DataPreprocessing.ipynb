{
 "cells": [
  {
   "cell_type": "code",
   "execution_count": 1,
   "metadata": {},
   "outputs": [],
   "source": [
    "import pandas as pd\n",
    "import matplotlib.pyplot as plt"
   ]
  },
  {
   "cell_type": "code",
   "execution_count": 27,
   "metadata": {},
   "outputs": [],
   "source": [
    "# Load all data\n",
    "df_smoking_all = pd.read_csv('../OriginalData/sales-of-cigarettes-per-adult-per-day.csv')\n",
    "df_cancer_all = pd.read_csv('../OriginalData/lung-cancer-deaths-per-100000-by-sex-1950-2002.csv')\n",
    "df_population_all = pd.read_csv('../OriginalData/population-past-future.csv')\n",
    "\n",
    "\n",
    "# Select data for usa\n",
    "df_smoking=df_smoking_all.loc[df_smoking_all['Code'] == \"USA\"]\n",
    "df_cancer=df_cancer_all.loc[df_cancer_all['Code'] == \"USA\"]\n",
    "df_population=df_population_all.loc[df_population_all['Code'] == \"USA\"]\n"
   ]
  },
  {
   "cell_type": "code",
   "execution_count": 28,
   "metadata": {},
   "outputs": [
    {
     "data": {
      "text/html": [
       "<div>\n",
       "<style scoped>\n",
       "    .dataframe tbody tr th:only-of-type {\n",
       "        vertical-align: middle;\n",
       "    }\n",
       "\n",
       "    .dataframe tbody tr th {\n",
       "        vertical-align: top;\n",
       "    }\n",
       "\n",
       "    .dataframe thead th {\n",
       "        text-align: right;\n",
       "    }\n",
       "</style>\n",
       "<table border=\"1\" class=\"dataframe\">\n",
       "  <thead>\n",
       "    <tr style=\"text-align: right;\">\n",
       "      <th></th>\n",
       "      <th>Entity</th>\n",
       "      <th>Code</th>\n",
       "      <th>Year</th>\n",
       "      <th>Sales of cigarettes per adult per day</th>\n",
       "    </tr>\n",
       "  </thead>\n",
       "  <tbody>\n",
       "    <tr>\n",
       "      <th>2605</th>\n",
       "      <td>United States</td>\n",
       "      <td>USA</td>\n",
       "      <td>1900</td>\n",
       "      <td>0.1</td>\n",
       "    </tr>\n",
       "    <tr>\n",
       "      <th>2606</th>\n",
       "      <td>United States</td>\n",
       "      <td>USA</td>\n",
       "      <td>1901</td>\n",
       "      <td>0.1</td>\n",
       "    </tr>\n",
       "    <tr>\n",
       "      <th>2607</th>\n",
       "      <td>United States</td>\n",
       "      <td>USA</td>\n",
       "      <td>1902</td>\n",
       "      <td>0.1</td>\n",
       "    </tr>\n",
       "    <tr>\n",
       "      <th>2608</th>\n",
       "      <td>United States</td>\n",
       "      <td>USA</td>\n",
       "      <td>1903</td>\n",
       "      <td>0.1</td>\n",
       "    </tr>\n",
       "    <tr>\n",
       "      <th>2609</th>\n",
       "      <td>United States</td>\n",
       "      <td>USA</td>\n",
       "      <td>1904</td>\n",
       "      <td>0.2</td>\n",
       "    </tr>\n",
       "  </tbody>\n",
       "</table>\n",
       "</div>"
      ],
      "text/plain": [
       "             Entity Code  Year  Sales of cigarettes per adult per day\n",
       "2605  United States  USA  1900                                    0.1\n",
       "2606  United States  USA  1901                                    0.1\n",
       "2607  United States  USA  1902                                    0.1\n",
       "2608  United States  USA  1903                                    0.1\n",
       "2609  United States  USA  1904                                    0.2"
      ]
     },
     "execution_count": 28,
     "metadata": {},
     "output_type": "execute_result"
    }
   ],
   "source": [
    "df_smoking.head()"
   ]
  },
  {
   "cell_type": "code",
   "execution_count": 29,
   "metadata": {},
   "outputs": [
    {
     "data": {
      "text/html": [
       "<div>\n",
       "<style scoped>\n",
       "    .dataframe tbody tr th:only-of-type {\n",
       "        vertical-align: middle;\n",
       "    }\n",
       "\n",
       "    .dataframe tbody tr th {\n",
       "        vertical-align: top;\n",
       "    }\n",
       "\n",
       "    .dataframe thead th {\n",
       "        text-align: right;\n",
       "    }\n",
       "</style>\n",
       "<table border=\"1\" class=\"dataframe\">\n",
       "  <thead>\n",
       "    <tr style=\"text-align: right;\">\n",
       "      <th></th>\n",
       "      <th>Entity</th>\n",
       "      <th>Code</th>\n",
       "      <th>Year</th>\n",
       "      <th>death_rate_per_100k_male</th>\n",
       "      <th>death_rate_per_100k_female</th>\n",
       "    </tr>\n",
       "  </thead>\n",
       "  <tbody>\n",
       "    <tr>\n",
       "      <th>4349</th>\n",
       "      <td>United States</td>\n",
       "      <td>USA</td>\n",
       "      <td>1950</td>\n",
       "      <td>19.56</td>\n",
       "      <td>4.34</td>\n",
       "    </tr>\n",
       "    <tr>\n",
       "      <th>4350</th>\n",
       "      <td>United States</td>\n",
       "      <td>USA</td>\n",
       "      <td>1951</td>\n",
       "      <td>20.73</td>\n",
       "      <td>4.35</td>\n",
       "    </tr>\n",
       "    <tr>\n",
       "      <th>4351</th>\n",
       "      <td>United States</td>\n",
       "      <td>USA</td>\n",
       "      <td>1952</td>\n",
       "      <td>22.38</td>\n",
       "      <td>4.52</td>\n",
       "    </tr>\n",
       "    <tr>\n",
       "      <th>4352</th>\n",
       "      <td>United States</td>\n",
       "      <td>USA</td>\n",
       "      <td>1953</td>\n",
       "      <td>24.35</td>\n",
       "      <td>4.41</td>\n",
       "    </tr>\n",
       "    <tr>\n",
       "      <th>4353</th>\n",
       "      <td>United States</td>\n",
       "      <td>USA</td>\n",
       "      <td>1954</td>\n",
       "      <td>25.30</td>\n",
       "      <td>4.43</td>\n",
       "    </tr>\n",
       "  </tbody>\n",
       "</table>\n",
       "</div>"
      ],
      "text/plain": [
       "             Entity Code  Year  death_rate_per_100k_male  \\\n",
       "4349  United States  USA  1950                     19.56   \n",
       "4350  United States  USA  1951                     20.73   \n",
       "4351  United States  USA  1952                     22.38   \n",
       "4352  United States  USA  1953                     24.35   \n",
       "4353  United States  USA  1954                     25.30   \n",
       "\n",
       "      death_rate_per_100k_female  \n",
       "4349                        4.34  \n",
       "4350                        4.35  \n",
       "4351                        4.52  \n",
       "4352                        4.41  \n",
       "4353                        4.43  "
      ]
     },
     "execution_count": 29,
     "metadata": {},
     "output_type": "execute_result"
    }
   ],
   "source": [
    "df_cancer.head()"
   ]
  },
  {
   "cell_type": "code",
   "execution_count": 30,
   "metadata": {},
   "outputs": [
    {
     "data": {
      "text/html": [
       "<div>\n",
       "<style scoped>\n",
       "    .dataframe tbody tr th:only-of-type {\n",
       "        vertical-align: middle;\n",
       "    }\n",
       "\n",
       "    .dataframe tbody tr th {\n",
       "        vertical-align: top;\n",
       "    }\n",
       "\n",
       "    .dataframe thead th {\n",
       "        text-align: right;\n",
       "    }\n",
       "</style>\n",
       "<table border=\"1\" class=\"dataframe\">\n",
       "  <thead>\n",
       "    <tr style=\"text-align: right;\">\n",
       "      <th></th>\n",
       "      <th>Entity</th>\n",
       "      <th>Code</th>\n",
       "      <th>Year</th>\n",
       "      <th>Population</th>\n",
       "    </tr>\n",
       "  </thead>\n",
       "  <tbody>\n",
       "    <tr>\n",
       "      <th>70572</th>\n",
       "      <td>United States</td>\n",
       "      <td>USA</td>\n",
       "      <td>-10000</td>\n",
       "      <td>233969</td>\n",
       "    </tr>\n",
       "    <tr>\n",
       "      <th>70573</th>\n",
       "      <td>United States</td>\n",
       "      <td>USA</td>\n",
       "      <td>-9000</td>\n",
       "      <td>259964</td>\n",
       "    </tr>\n",
       "    <tr>\n",
       "      <th>70574</th>\n",
       "      <td>United States</td>\n",
       "      <td>USA</td>\n",
       "      <td>-8000</td>\n",
       "      <td>288850</td>\n",
       "    </tr>\n",
       "    <tr>\n",
       "      <th>70575</th>\n",
       "      <td>United States</td>\n",
       "      <td>USA</td>\n",
       "      <td>-7000</td>\n",
       "      <td>320944</td>\n",
       "    </tr>\n",
       "    <tr>\n",
       "      <th>70576</th>\n",
       "      <td>United States</td>\n",
       "      <td>USA</td>\n",
       "      <td>-6000</td>\n",
       "      <td>356604</td>\n",
       "    </tr>\n",
       "  </tbody>\n",
       "</table>\n",
       "</div>"
      ],
      "text/plain": [
       "              Entity Code   Year  Population\n",
       "70572  United States  USA -10000      233969\n",
       "70573  United States  USA  -9000      259964\n",
       "70574  United States  USA  -8000      288850\n",
       "70575  United States  USA  -7000      320944\n",
       "70576  United States  USA  -6000      356604"
      ]
     },
     "execution_count": 30,
     "metadata": {},
     "output_type": "execute_result"
    }
   ],
   "source": [
    "df_population.head()"
   ]
  },
  {
   "cell_type": "code",
   "execution_count": null,
   "metadata": {},
   "outputs": [],
   "source": [
    "plt.plot(df_smoking[\"Year\"], df_smoking[\"Sales of cigarettes per adult per day\"])\n",
    "plt.title(\"Cigarette sales data\")\n",
    "plt.xlabel(\"Year\")\n",
    "plt.ylabel(\"Sales per adult per day\")\n",
    "plt.show()\n",
    "\n",
    "plt.plot(df_cancer[\"Year\"], df_cancer[\"Death Rate\"])\n",
    "plt.title(\"Lung cancer death rate\")\n",
    "plt.xlabel(\"Year\")\n",
    "plt.ylabel(\"Death Rate\")\n",
    "plt.show()\n",
    "\n",
    "plt.plot(df_population[\"Year\"], df_population[\"Population\"])\n",
    "plt.title(\"Population USA\")\n",
    "plt.xlabel(\"Year\")\n",
    "plt.ylabel(\"Population\")\n",
    "plt.show()"
   ]
  },
  {
   "cell_type": "code",
   "execution_count": 62,
   "metadata": {},
   "outputs": [
    {
     "name": "stdout",
     "output_type": "stream",
     "text": [
      "    Year  Sales of cigarettes per adult per day  death_rate_per_100k\n",
      "0   1950                                    9.3                23.90\n",
      "1   1951                                    9.8                25.08\n",
      "2   1952                                   10.0                26.90\n",
      "3   1953                                    9.7                28.76\n",
      "4   1954                                    9.2                29.73\n",
      "..   ...                                    ...                  ...\n",
      "60  2010                                    3.6                67.39\n",
      "61  2011                                    3.5                65.08\n",
      "62  2012                                    3.5                63.64\n",
      "63  2013                                    3.3                61.45\n",
      "64  2014                                    3.2                59.60\n",
      "\n",
      "[65 rows x 3 columns]\n"
     ]
    },
    {
     "name": "stderr",
     "output_type": "stream",
     "text": [
      "C:\\Users\\Piotr Kula\\AppData\\Local\\Temp\\ipykernel_20676\\1670338062.py:3: SettingWithCopyWarning: \n",
      "A value is trying to be set on a copy of a slice from a DataFrame.\n",
      "Try using .loc[row_indexer,col_indexer] = value instead\n",
      "\n",
      "See the caveats in the documentation: https://pandas.pydata.org/pandas-docs/stable/user_guide/indexing.html#returning-a-view-versus-a-copy\n",
      "  df_yr_dth['death_rate_per_100k'] = df_yr_dth['death_rate_per_100k_male'] + df_yr_dth['death_rate_per_100k_female']\n"
     ]
    }
   ],
   "source": [
    "df_yr_smo = df_smoking[['Year', 'Sales of cigarettes per adult per day']]\n",
    "df_yr_dth = df_cancer[['Year', 'death_rate_per_100k_male', 'death_rate_per_100k_female']]\n",
    "df_yr_dth['death_rate_per_100k'] = df_yr_dth['death_rate_per_100k_male'] + df_yr_dth['death_rate_per_100k_female']\n",
    "df_yr_dth = df_yr_dth.drop(columns=['death_rate_per_100k_male', 'death_rate_per_100k_female'])\n",
    "df_pop = df_population[['Year', 'Population']]\n",
    "df_merged = pd.merge(df_yr_smo.loc[(df_yr_smo['Year']>=1950) & (df_yr_smo['Year']<=2014)], \n",
    "                     df_yr_dth.loc[(df_yr_dth['Year']>=1950) & (df_yr_dth['Year']<=2014)],\n",
    "                     on='Year')\n",
    "df_merged = pd.merge(df_merged, \n",
    "                     df_pop.loc[(df_pop['Year']>=1950) & (df_pop['Year']<=2014)],\n",
    "                     on='Year')\n",
    "print(df_merged)"
   ]
  },
  {
   "cell_type": "code",
   "execution_count": 54,
   "metadata": {},
   "outputs": [
    {
     "name": "stdout",
     "output_type": "stream",
     "text": [
      "      Year  Sales of cigarettes per adult per day\n",
      "2605  1900                                    0.1\n",
      "2606  1901                                    0.1\n",
      "2607  1902                                    0.1\n",
      "2608  1903                                    0.1\n",
      "2609  1904                                    0.2\n",
      "...    ...                                    ...\n",
      "2715  2010                                    3.6\n",
      "2716  2011                                    3.5\n",
      "2717  2012                                    3.5\n",
      "2718  2013                                    3.3\n",
      "2719  2014                                    3.2\n",
      "\n",
      "[115 rows x 2 columns]\n"
     ]
    }
   ],
   "source": [
    "df_yr_smo.loc[(df_yr_smo['Year']>=1950) & (df_yr_smo['Year']<=2014)]\n",
    "print(df_yr_smo)"
   ]
  }
 ],
 "metadata": {
  "interpreter": {
   "hash": "c6b78216d01b078b67c913f155c040603b38d46829e7619682caa40b07c23cb5"
  },
  "kernelspec": {
   "display_name": "Python 3.10.2 ('cmdstan')",
   "language": "python",
   "name": "python3"
  },
  "language_info": {
   "codemirror_mode": {
    "name": "ipython",
    "version": 3
   },
   "file_extension": ".py",
   "mimetype": "text/x-python",
   "name": "python",
   "nbconvert_exporter": "python",
   "pygments_lexer": "ipython3",
   "version": "3.10.4"
  },
  "orig_nbformat": 4
 },
 "nbformat": 4,
 "nbformat_minor": 2
}
