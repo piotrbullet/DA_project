{
 "cells": [
  {
   "cell_type": "code",
   "execution_count": 75,
   "metadata": {},
   "outputs": [
    {
     "data": {
      "text/plain": [
       "Index(['id', 'date', 'price', 'bedrooms', 'bathrooms', 'sqft_living',\n",
       "       'sqft_lot', 'floors', 'waterfront', 'view', 'condition', 'grade',\n",
       "       'sqft_above', 'sqft_basement', 'yr_built', 'yr_renovated', 'zipcode',\n",
       "       'lat', 'long', 'sqft_living15', 'sqft_lot15'],\n",
       "      dtype='object')"
      ]
     },
     "execution_count": 75,
     "metadata": {},
     "output_type": "execute_result"
    }
   ],
   "source": [
    "from cmdstanpy import CmdStanModel\n",
    "\n",
    "import arviz as az\n",
    "import numpy as np\n",
    "import scipy.stats as stats\n",
    "\n",
    "import matplotlib.pyplot as plt\n",
    "from matplotlib.gridspec import GridSpec\n",
    "import pandas as pd\n",
    "import random as rd\n",
    "\n",
    "df_all = pd.read_csv(\"kc_house_data.csv\")\n",
    "df = df_all.sample(n=100, random_state=1)\n",
    "\n",
    "df.head()\n",
    "df.columns\n",
    "\n"
   ]
  },
  {
   "cell_type": "code",
   "execution_count": 76,
   "metadata": {},
   "outputs": [
    {
     "name": "stdout",
     "output_type": "stream",
     "text": [
      "Linear function:  \n",
      "245.5 x + 1.267e+04\n"
     ]
    },
    {
     "data": {
      "image/png": "[encoded data removed]",
      "text/plain": [
       "<Figure size 432x288 with 1 Axes>"
      ]
     },
     "metadata": {
      "needs_background": "light"
     },
     "output_type": "display_data"
    }
   ],
   "source": [
    "plt.scatter(df['sqft_living'], df[\"price\"])\n",
    "z = np.polyfit(df['sqft_living'], df[\"price\"], 1)\n",
    "p = np.poly1d(z)\n",
    "print(f\"Linear function: {p}\")\n",
    "trend_h = p(df['sqft_living'])\n",
    "plt.plot(df['sqft_living'],trend_h, \"r-\")\n",
    "plt.title(\"Sqft / price\")\n",
    "plt.show()"
   ]
  },
  {
   "cell_type": "code",
   "execution_count": 77,
   "metadata": {},
   "outputs": [
    {
     "name": "stdout",
     "output_type": "stream",
     "text": [
      "100\n"
     ]
    }
   ],
   "source": [
    "\n",
    "\n",
    "print(len(df_small['sqft_living']))"
   ]
  },
  {
   "cell_type": "code",
   "execution_count": 78,
   "metadata": {},
   "outputs": [
    {
     "name": "stderr",
     "output_type": "stream",
     "text": [
      "INFO:cmdstanpy:found newer exe file, not recompiling\n",
      "INFO:cmdstanpy:CmdStan start processing\n",
      "chain 1 |\u001b[34m██████████\u001b[0m| 00:00 Sampling completed"
     ]
    },
    {
     "name": "stdout",
     "output_type": "stream",
     "text": [
      "                                                                                "
     ]
    },
    {
     "name": "stderr",
     "output_type": "stream",
     "text": [
      "\n",
      "INFO:cmdstanpy:CmdStan done processing.\n"
     ]
    },
    {
     "name": "stdout",
     "output_type": "stream",
     "text": [
      "\n"
     ]
    }
   ],
   "source": [
    "data = {'N': len(df['sqft_living']),\n",
    "        'sqft': df['sqft_living']}\n",
    "model_1_prior = CmdStanModel(stan_file='stan_1_ppc.stan')\n",
    "model_1_prior_simulated = model_1_prior.sample(data=data, iter_sampling=1000, iter_warmup=0, chains=1, refresh=1000, fixed_param=True, seed=21370204)"
   ]
  },
  {
   "cell_type": "code",
   "execution_count": 79,
   "metadata": {},
   "outputs": [
    {
     "data": {
      "text/html": [
       "<div>\n",
       "<style scoped>\n",
       "    .dataframe tbody tr th:only-of-type {\n",
       "        vertical-align: middle;\n",
       "    }\n",
       "\n",
       "    .dataframe tbody tr th {\n",
       "        vertical-align: top;\n",
       "    }\n",
       "\n",
       "    .dataframe thead th {\n",
       "        text-align: right;\n",
       "    }\n",
       "</style>\n",
       "<table border=\"1\" class=\"dataframe\">\n",
       "  <thead>\n",
       "    <tr style=\"text-align: right;\">\n",
       "      <th></th>\n",
       "      <th>Mean</th>\n",
       "      <th>MCSE</th>\n",
       "      <th>StdDev</th>\n",
       "      <th>5%</th>\n",
       "      <th>50%</th>\n",
       "      <th>95%</th>\n",
       "      <th>N_Eff</th>\n",
       "      <th>N_Eff/s</th>\n",
       "      <th>R_hat</th>\n",
       "    </tr>\n",
       "    <tr>\n",
       "      <th>name</th>\n",
       "      <th></th>\n",
       "      <th></th>\n",
       "      <th></th>\n",
       "      <th></th>\n",
       "      <th></th>\n",
       "      <th></th>\n",
       "      <th></th>\n",
       "      <th></th>\n",
       "      <th></th>\n",
       "    </tr>\n",
       "  </thead>\n",
       "  <tbody>\n",
       "    <tr>\n",
       "      <th>lp__</th>\n",
       "      <td>0.0</td>\n",
       "      <td>NaN</td>\n",
       "      <td>0.0</td>\n",
       "      <td>0.00</td>\n",
       "      <td>0.0</td>\n",
       "      <td>0.0</td>\n",
       "      <td>NaN</td>\n",
       "      <td>NaN</td>\n",
       "      <td>NaN</td>\n",
       "    </tr>\n",
       "    <tr>\n",
       "      <th>alpha</th>\n",
       "      <td>44000.0</td>\n",
       "      <td>77.000</td>\n",
       "      <td>2500.0</td>\n",
       "      <td>40000.00</td>\n",
       "      <td>44000.0</td>\n",
       "      <td>48000.0</td>\n",
       "      <td>1100.0</td>\n",
       "      <td>13000.0</td>\n",
       "      <td>1.0</td>\n",
       "    </tr>\n",
       "    <tr>\n",
       "      <th>beta</th>\n",
       "      <td>280.0</td>\n",
       "      <td>4.500</td>\n",
       "      <td>150.0</td>\n",
       "      <td>12.00</td>\n",
       "      <td>280.0</td>\n",
       "      <td>530.0</td>\n",
       "      <td>1200.0</td>\n",
       "      <td>14000.0</td>\n",
       "      <td>1.0</td>\n",
       "    </tr>\n",
       "    <tr>\n",
       "      <th>sigma</th>\n",
       "      <td>2.0</td>\n",
       "      <td>0.055</td>\n",
       "      <td>1.9</td>\n",
       "      <td>0.12</td>\n",
       "      <td>1.4</td>\n",
       "      <td>5.9</td>\n",
       "      <td>1200.0</td>\n",
       "      <td>14000.0</td>\n",
       "      <td>1.0</td>\n",
       "    </tr>\n",
       "    <tr>\n",
       "      <th>price[1]</th>\n",
       "      <td>814061.0</td>\n",
       "      <td>12623.000</td>\n",
       "      <td>428896.0</td>\n",
       "      <td>78718.00</td>\n",
       "      <td>823729.0</td>\n",
       "      <td>1520490.0</td>\n",
       "      <td>1154.0</td>\n",
       "      <td>13909.0</td>\n",
       "      <td>1.0</td>\n",
       "    </tr>\n",
       "    <tr>\n",
       "      <th>...</th>\n",
       "      <td>...</td>\n",
       "      <td>...</td>\n",
       "      <td>...</td>\n",
       "      <td>...</td>\n",
       "      <td>...</td>\n",
       "      <td>...</td>\n",
       "      <td>...</td>\n",
       "      <td>...</td>\n",
       "      <td>...</td>\n",
       "    </tr>\n",
       "    <tr>\n",
       "      <th>price[96]</th>\n",
       "      <td>400031.0</td>\n",
       "      <td>5838.000</td>\n",
       "      <td>198338.0</td>\n",
       "      <td>60020.00</td>\n",
       "      <td>405630.0</td>\n",
       "      <td>727602.0</td>\n",
       "      <td>1154.0</td>\n",
       "      <td>13906.0</td>\n",
       "      <td>1.0</td>\n",
       "    </tr>\n",
       "    <tr>\n",
       "      <th>price[97]</th>\n",
       "      <td>662250.0</td>\n",
       "      <td>10135.000</td>\n",
       "      <td>344357.0</td>\n",
       "      <td>71860.00</td>\n",
       "      <td>671005.0</td>\n",
       "      <td>1229770.0</td>\n",
       "      <td>1154.0</td>\n",
       "      <td>13908.0</td>\n",
       "      <td>1.0</td>\n",
       "    </tr>\n",
       "    <tr>\n",
       "      <th>price[98]</th>\n",
       "      <td>852703.0</td>\n",
       "      <td>13257.000</td>\n",
       "      <td>450416.0</td>\n",
       "      <td>80461.00</td>\n",
       "      <td>862714.0</td>\n",
       "      <td>1594500.0</td>\n",
       "      <td>1154.0</td>\n",
       "      <td>13909.0</td>\n",
       "      <td>1.0</td>\n",
       "    </tr>\n",
       "    <tr>\n",
       "      <th>price[99]</th>\n",
       "      <td>659489.0</td>\n",
       "      <td>10090.000</td>\n",
       "      <td>342820.0</td>\n",
       "      <td>71735.00</td>\n",
       "      <td>668234.0</td>\n",
       "      <td>1224480.0</td>\n",
       "      <td>1154.0</td>\n",
       "      <td>13908.0</td>\n",
       "      <td>1.0</td>\n",
       "    </tr>\n",
       "    <tr>\n",
       "      <th>price[100]</th>\n",
       "      <td>521480.0</td>\n",
       "      <td>7828.000</td>\n",
       "      <td>265967.0</td>\n",
       "      <td>65505.00</td>\n",
       "      <td>528554.0</td>\n",
       "      <td>960183.0</td>\n",
       "      <td>1154.0</td>\n",
       "      <td>13907.0</td>\n",
       "      <td>1.0</td>\n",
       "    </tr>\n",
       "  </tbody>\n",
       "</table>\n",
       "<p>104 rows × 9 columns</p>\n",
       "</div>"
      ],
      "text/plain": [
       "                Mean       MCSE    StdDev        5%       50%        95%  \\\n",
       "name                                                                       \n",
       "lp__             0.0        NaN       0.0      0.00       0.0        0.0   \n",
       "alpha        44000.0     77.000    2500.0  40000.00   44000.0    48000.0   \n",
       "beta           280.0      4.500     150.0     12.00     280.0      530.0   \n",
       "sigma            2.0      0.055       1.9      0.12       1.4        5.9   \n",
       "price[1]    814061.0  12623.000  428896.0  78718.00  823729.0  1520490.0   \n",
       "...              ...        ...       ...       ...       ...        ...   \n",
       "price[96]   400031.0   5838.000  198338.0  60020.00  405630.0   727602.0   \n",
       "price[97]   662250.0  10135.000  344357.0  71860.00  671005.0  1229770.0   \n",
       "price[98]   852703.0  13257.000  450416.0  80461.00  862714.0  1594500.0   \n",
       "price[99]   659489.0  10090.000  342820.0  71735.00  668234.0  1224480.0   \n",
       "price[100]  521480.0   7828.000  265967.0  65505.00  528554.0   960183.0   \n",
       "\n",
       "             N_Eff  N_Eff/s  R_hat  \n",
       "name                                \n",
       "lp__           NaN      NaN    NaN  \n",
       "alpha       1100.0  13000.0    1.0  \n",
       "beta        1200.0  14000.0    1.0  \n",
       "sigma       1200.0  14000.0    1.0  \n",
       "price[1]    1154.0  13909.0    1.0  \n",
       "...            ...      ...    ...  \n",
       "price[96]   1154.0  13906.0    1.0  \n",
       "price[97]   1154.0  13908.0    1.0  \n",
       "price[98]   1154.0  13909.0    1.0  \n",
       "price[99]   1154.0  13908.0    1.0  \n",
       "price[100]  1154.0  13907.0    1.0  \n",
       "\n",
       "[104 rows x 9 columns]"
      ]
     },
     "execution_count": 79,
     "metadata": {},
     "output_type": "execute_result"
    }
   ],
   "source": [
    "model_1_prior_simulated.summary()"
   ]
  },
  {
   "cell_type": "code",
   "execution_count": 80,
   "metadata": {},
   "outputs": [
    {
     "data": {
      "image/png": "[encoded data removed]",
      "text/plain": [
       "<Figure size 432x288 with 1 Axes>"
      ]
     },
     "metadata": {
      "needs_background": "light"
     },
     "output_type": "display_data"
    },
    {
     "data": {
      "image/png": "[encoded data removed]",
      "text/plain": [
       "<Figure size 432x288 with 1 Axes>"
      ]
     },
     "metadata": {
      "needs_background": "light"
     },
     "output_type": "display_data"
    }
   ],
   "source": [
    "prices_sim=model_1_prior_simulated.stan_variable('price')\n",
    "plt.scatter(df['sqft_living'], df[\"price\"])\n",
    "plt.title(\"Sqft / price\")\n",
    "plt.show()\n",
    "\n",
    "prices_sim=model_1_prior_simulated.stan_variable('price')\n",
    "\n",
    "for i in range(0,len(df['sqft_living'])):\n",
    "    plt.scatter(df['sqft_living'], prices_sim[i], color=\"g\")\n",
    "\n",
    "plt.title(\"Sqft / price\")\n",
    "plt.show()"
   ]
  },
  {
   "cell_type": "code",
   "execution_count": 81,
   "metadata": {},
   "outputs": [
    {
     "name": "stderr",
     "output_type": "stream",
     "text": [
      "INFO:cmdstanpy:found newer exe file, not recompiling\n",
      "INFO:cmdstanpy:CmdStan start processing\n",
      "chain 1 |\u001b[34m██████████\u001b[0m| 00:00 Sampling completed"
     ]
    },
    {
     "name": "stdout",
     "output_type": "stream",
     "text": [
      "                                                                                "
     ]
    },
    {
     "name": "stderr",
     "output_type": "stream",
     "text": [
      "\n",
      "INFO:cmdstanpy:CmdStan done processing.\n"
     ]
    },
    {
     "name": "stdout",
     "output_type": "stream",
     "text": [
      "\n"
     ]
    }
   ],
   "source": [
    "data = {'N': len(df['sqft_living']),\n",
    "        'sqft': df['sqft_living']}\n",
    "model_2_prior = CmdStanModel(stan_file='stan_2_ppc.stan')\n",
    "model_2_prior_simulated = model_2_prior.sample(data=data, iter_sampling=1000, iter_warmup=0, chains=1, refresh=1000, fixed_param=True, seed=21370204)"
   ]
  },
  {
   "cell_type": "code",
   "execution_count": 82,
   "metadata": {},
   "outputs": [
    {
     "data": {
      "image/png": "[encoded data removed]",
      "text/plain": [
       "<Figure size 432x288 with 1 Axes>"
      ]
     },
     "metadata": {
      "needs_background": "light"
     },
     "output_type": "display_data"
    }
   ],
   "source": [
    "prices_sim=model_2_prior_simulated.stan_variable('price')\n",
    "\n",
    "for i in range(0,len(df['sqft_living'])):\n",
    "    plt.scatter(df['sqft_living'], prices_sim[i], color=\"g\")\n",
    "\n",
    "plt.scatter(df['sqft_living'], df[\"price\"])\n",
    "\n",
    "plt.title(\"Sqft / price\")\n",
    "plt.show()"
   ]
  },
  {
   "cell_type": "code",
   "execution_count": 83,
   "metadata": {},
   "outputs": [
    {
     "ename": "NameError",
     "evalue": "name 'stan_1_posterior' is not defined",
     "output_type": "error",
     "traceback": [
      "\u001b[0;31m---------------------------------------------------------------------------\u001b[0m",
      "\u001b[0;31mNameError\u001b[0m                                 Traceback (most recent call last)",
      "\u001b[0;32m/tmp/ipykernel_8807/306900973.py\u001b[0m in \u001b[0;36m<module>\u001b[0;34m\u001b[0m\n\u001b[0;32m----> 1\u001b[0;31m \u001b[0mstan_1_posterior\u001b[0m\u001b[0;34m\u001b[0m\u001b[0;34m\u001b[0m\u001b[0m\n\u001b[0m",
      "\u001b[0;31mNameError\u001b[0m: name 'stan_1_posterior' is not defined"
     ]
    }
   ],
   "source": [
    "stan_1_posterior"
   ]
  },
  {
   "cell_type": "code",
   "execution_count": 87,
   "metadata": {},
   "outputs": [
    {
     "name": "stderr",
     "output_type": "stream",
     "text": [
      "INFO:cmdstanpy:found newer exe file, not recompiling\n",
      "INFO:cmdstanpy:CmdStan start processing\n",
      "chain 1 |\u001b[33m          \u001b[0m| 00:00 StatusERROR:cmdstanpy:Chain [1] error: error during processing Operation not permitted\n",
      "chain 1 |\u001b[33m██████████\u001b[0m| 00:00 Sampling completed"
     ]
    },
    {
     "name": "stdout",
     "output_type": "stream",
     "text": [
      "                                                                                "
     ]
    },
    {
     "name": "stderr",
     "output_type": "stream",
     "text": [
      "\n",
      "INFO:cmdstanpy:CmdStan done processing.\n"
     ]
    },
    {
     "name": "stdout",
     "output_type": "stream",
     "text": [
      "\n"
     ]
    },
    {
     "ename": "RuntimeError",
     "evalue": "Error during sampling:\nCommand and output files:\nRunSet: chains=1, chain_ids=[1], num_processes=1\n cmd (chain 1):\n\t['/home/nicolas/Projects/DA_project/stan_1_posterior', 'id=1', 'random', 'seed=21370204', 'data', 'file=/tmp/tmp148xck9m/sf8yaz9o.json', 'output', 'file=/tmp/tmp148xck9m/stan_1_posterior-20220612160207.csv', 'refresh=1000', 'method=sample', 'num_samples=1000', 'num_warmup=0', 'algorithm=hmc', 'adapt', 'engaged=1']\n retcodes=[1]\n per-chain output files (showing chain 1 only):\n csv_file:\n\t/tmp/tmp148xck9m/stan_1_posterior-20220612160207.csv\n console_msgs (if any):\n\t/tmp/tmp148xck9m/stan_1_posterior-20220612160207_0-stdout.txt",
     "output_type": "error",
     "traceback": [
      "\u001b[0;31m---------------------------------------------------------------------------\u001b[0m",
      "\u001b[0;31mRuntimeError\u001b[0m                              Traceback (most recent call last)",
      "\u001b[0;32m/tmp/ipykernel_8807/2592151647.py\u001b[0m in \u001b[0;36m<module>\u001b[0;34m\u001b[0m\n\u001b[1;32m      3\u001b[0m         'price': df[\"price\"]}\n\u001b[1;32m      4\u001b[0m \u001b[0mmodel_1_posterior\u001b[0m \u001b[0;34m=\u001b[0m \u001b[0mCmdStanModel\u001b[0m\u001b[0;34m(\u001b[0m\u001b[0mstan_file\u001b[0m\u001b[0;34m=\u001b[0m\u001b[0;34m'stan_1_posterior.stan'\u001b[0m\u001b[0;34m)\u001b[0m\u001b[0;34m\u001b[0m\u001b[0;34m\u001b[0m\u001b[0m\n\u001b[0;32m----> 5\u001b[0;31m \u001b[0mmodel_1_prior_simulated\u001b[0m \u001b[0;34m=\u001b[0m \u001b[0mmodel_1_posterior\u001b[0m\u001b[0;34m.\u001b[0m\u001b[0msample\u001b[0m\u001b[0;34m(\u001b[0m\u001b[0mdata\u001b[0m\u001b[0;34m=\u001b[0m\u001b[0mdata\u001b[0m\u001b[0;34m,\u001b[0m \u001b[0miter_sampling\u001b[0m\u001b[0;34m=\u001b[0m\u001b[0;36m1000\u001b[0m\u001b[0;34m,\u001b[0m \u001b[0miter_warmup\u001b[0m\u001b[0;34m=\u001b[0m\u001b[0;36m0\u001b[0m\u001b[0;34m,\u001b[0m \u001b[0mchains\u001b[0m\u001b[0;34m=\u001b[0m\u001b[0;36m1\u001b[0m\u001b[0;34m,\u001b[0m \u001b[0mrefresh\u001b[0m\u001b[0;34m=\u001b[0m\u001b[0;36m1000\u001b[0m\u001b[0;34m,\u001b[0m \u001b[0mfixed_param\u001b[0m\u001b[0;34m=\u001b[0m\u001b[0;32mFalse\u001b[0m\u001b[0;34m,\u001b[0m \u001b[0mseed\u001b[0m\u001b[0;34m=\u001b[0m\u001b[0;36m21370204\u001b[0m\u001b[0;34m)\u001b[0m\u001b[0;34m\u001b[0m\u001b[0;34m\u001b[0m\u001b[0m\n\u001b[0m",
      "\u001b[0;32m~/anaconda3/envs/cmdstan/lib/python3.8/site-packages/cmdstanpy/model.py\u001b[0m in \u001b[0;36msample\u001b[0;34m(self, data, chains, parallel_chains, threads_per_chain, seed, chain_ids, inits, iter_warmup, iter_sampling, save_warmup, thin, max_treedepth, metric, step_size, adapt_engaged, adapt_delta, adapt_init_phase, adapt_metric_window, adapt_step_size, fixed_param, output_dir, sig_figs, save_latent_dynamics, save_profile, show_progress, show_console, refresh, time_fmt, force_one_process_per_chain)\u001b[0m\n\u001b[1;32m   1087\u001b[0m                     \u001b[0mmsg\u001b[0m\u001b[0;34m,\u001b[0m \u001b[0mrunset\u001b[0m\u001b[0;34m.\u001b[0m\u001b[0m__repr__\u001b[0m\u001b[0;34m(\u001b[0m\u001b[0;34m)\u001b[0m\u001b[0;34m\u001b[0m\u001b[0;34m\u001b[0m\u001b[0m\n\u001b[1;32m   1088\u001b[0m                 )\n\u001b[0;32m-> 1089\u001b[0;31m                 \u001b[0;32mraise\u001b[0m \u001b[0mRuntimeError\u001b[0m\u001b[0;34m(\u001b[0m\u001b[0mmsg\u001b[0m\u001b[0;34m)\u001b[0m\u001b[0;34m\u001b[0m\u001b[0;34m\u001b[0m\u001b[0m\n\u001b[0m\u001b[1;32m   1090\u001b[0m \u001b[0;34m\u001b[0m\u001b[0m\n\u001b[1;32m   1091\u001b[0m             \u001b[0mmcmc\u001b[0m \u001b[0;34m=\u001b[0m \u001b[0mCmdStanMCMC\u001b[0m\u001b[0;34m(\u001b[0m\u001b[0mrunset\u001b[0m\u001b[0;34m)\u001b[0m\u001b[0;34m\u001b[0m\u001b[0;34m\u001b[0m\u001b[0m\n",
      "\u001b[0;31mRuntimeError\u001b[0m: Error during sampling:\nCommand and output files:\nRunSet: chains=1, chain_ids=[1], num_processes=1\n cmd (chain 1):\n\t['/home/nicolas/Projects/DA_project/stan_1_posterior', 'id=1', 'random', 'seed=21370204', 'data', 'file=/tmp/tmp148xck9m/sf8yaz9o.json', 'output', 'file=/tmp/tmp148xck9m/stan_1_posterior-20220612160207.csv', 'refresh=1000', 'method=sample', 'num_samples=1000', 'num_warmup=0', 'algorithm=hmc', 'adapt', 'engaged=1']\n retcodes=[1]\n per-chain output files (showing chain 1 only):\n csv_file:\n\t/tmp/tmp148xck9m/stan_1_posterior-20220612160207.csv\n console_msgs (if any):\n\t/tmp/tmp148xck9m/stan_1_posterior-20220612160207_0-stdout.txt"
     ]
    }
   ],
   "source": [
    "data = {'N': len(df['sqft_living']),\n",
    "        'sqft': df['sqft_living'],\n",
    "        'price': df['price']}\n",
    "model_1_posterior = CmdStanModel(stan_file='stan_1_posterior.stan')\n",
    "model_1_prior_simulated = model_1_posterior.sample(data=data, iter_sampling=1000, iter_warmup=0, chains=1, refresh=1000, fixed_param=False, seed=21370204)"
   ]
  }
 ],
 "metadata": {
  "interpreter": {
   "hash": "ac19442bcc8f5dc288b190133b5edcf2a2e303ca99c919856ca726c1985e039d"
  },
  "kernelspec": {
   "display_name": "Python 3.8.12 ('cmdstan')",
   "language": "python",
   "name": "python3"
  },
  "language_info": {
   "codemirror_mode": {
    "name": "ipython",
    "version": 3
   },
   "file_extension": ".py",
   "mimetype": "text/x-python",
   "name": "python",
   "nbconvert_exporter": "python",
   "pygments_lexer": "ipython3",
   "version": "3.8.12"
  },
  "orig_nbformat": 4
 },
 "nbformat": 4,
 "nbformat_minor": 2
}
