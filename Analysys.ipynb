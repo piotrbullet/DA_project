{
 "cells": [
  {
   "cell_type": "code",
   "execution_count": null,
   "metadata": {},
   "outputs": [
    {
     "data": {
      "text/plain": [
       "Index(['id', 'date', 'price', 'bedrooms', 'bathrooms', 'sqft_living',\n",
       "       'sqft_lot', 'floors', 'waterfront', 'view', 'condition', 'grade',\n",
       "       'sqft_above', 'sqft_basement', 'yr_built', 'yr_renovated', 'zipcode',\n",
       "       'lat', 'long', 'sqft_living15', 'sqft_lot15'],\n",
       "      dtype='object')"
      ]
     },
     "execution_count": 28,
     "metadata": {},
     "output_type": "execute_result"
    }
   ],
   "source": [
    "from cmdstanpy import CmdStanModel\n",
    "\n",
    "import arviz as az\n",
    "import numpy as np\n",
    "import scipy.stats as stats\n",
    "\n",
    "import matplotlib.pyplot as plt\n",
    "from matplotlib.gridspec import GridSpec\n",
    "import pandas as pd\n",
    "import random as rd\n",
    "\n",
    "df_all = pd.read_csv(\"kc_house_data.csv\")\n",
    "df = df_all.sample(n=1000, random_state=1)\n",
    "\n",
    "df.head()\n",
    "df.columns\n",
    "\n"
   ]
  },
  {
   "cell_type": "code",
   "execution_count": null,
   "metadata": {},
   "outputs": [
    {
     "name": "stdout",
     "output_type": "stream",
     "text": [
      "Linear function:  \n",
      "295.3 x - 6.413e+04\n"
     ]
    },
    {
     "data": {
      "image/png": "[encoded data removed]",
      "text/plain": [
       "<Figure size 432x288 with 1 Axes>"
      ]
     },
     "metadata": {
      "needs_background": "light"
     },
     "output_type": "display_data"
    }
   ],
   "source": [
    "plt.scatter(df['sqft_living'], df[\"price\"])\n",
    "z = np.polyfit(df['sqft_living'], df[\"price\"], 1)\n",
    "p = np.poly1d(z)\n",
    "print(f\"Linear function: {p}\")\n",
    "trend_h = p(df['sqft_living'])\n",
    "plt.plot(df['sqft_living'],trend_h, \"r-\")\n",
    "plt.title(\"Sqft / price\")\n",
    "plt.show()"
   ]
  },
  {
   "cell_type": "code",
   "execution_count": null,
   "metadata": {},
   "outputs": [
    {
     "name": "stdout",
     "output_type": "stream",
     "text": [
      "100\n"
     ]
    }
   ],
   "source": [
    "\n",
    "\n",
    "print(len(df_small['sqft_living']))"
   ]
  },
  {
   "cell_type": "code",
   "execution_count": 31,
   "metadata": {},
   "outputs": [
    {
     "name": "stderr",
     "output_type": "stream",
     "text": [
      "INFO:cmdstanpy:found newer exe file, not recompiling\n",
      "INFO:cmdstanpy:CmdStan start processing\n",
      "chain 1 |\u001b[34m██████████\u001b[0m| 00:00 Sampling completed                      "
     ]
    },
    {
     "name": "stdout",
     "output_type": "stream",
     "text": [
      "                                                                                "
     ]
    },
    {
     "name": "stderr",
     "output_type": "stream",
     "text": [
      "\n",
      "INFO:cmdstanpy:CmdStan done processing.\n"
     ]
    },
    {
     "name": "stdout",
     "output_type": "stream",
     "text": [
      "\n"
     ]
    }
   ],
   "source": [
    "data = {'N': len(df['sqft_living']),\n",
    "        'sqft': df['sqft_living']}\n",
    "model_1_prior = CmdStanModel(stan_file='stan_1_ppc.stan')\n",
    "model_1_prior_simulated = model_1_prior.sample(data=data, iter_sampling=1000, iter_warmup=0, chains=1, refresh=1000, fixed_param=True, seed=21370204)"
   ]
  },
  {
   "cell_type": "code",
   "execution_count": 34,
   "metadata": {},
   "outputs": [
    {
     "data": {
      "text/html": [
       "<div>\n",
       "<style scoped>\n",
       "    .dataframe tbody tr th:only-of-type {\n",
       "        vertical-align: middle;\n",
       "    }\n",
       "\n",
       "    .dataframe tbody tr th {\n",
       "        vertical-align: top;\n",
       "    }\n",
       "\n",
       "    .dataframe thead th {\n",
       "        text-align: right;\n",
       "    }\n",
       "</style>\n",
       "<table border=\"1\" class=\"dataframe\">\n",
       "  <thead>\n",
       "    <tr style=\"text-align: right;\">\n",
       "      <th></th>\n",
       "      <th>Mean</th>\n",
       "      <th>MCSE</th>\n",
       "      <th>StdDev</th>\n",
       "      <th>5%</th>\n",
       "      <th>50%</th>\n",
       "      <th>95%</th>\n",
       "      <th>N_Eff</th>\n",
       "      <th>N_Eff/s</th>\n",
       "      <th>R_hat</th>\n",
       "    </tr>\n",
       "    <tr>\n",
       "      <th>name</th>\n",
       "      <th></th>\n",
       "      <th></th>\n",
       "      <th></th>\n",
       "      <th></th>\n",
       "      <th></th>\n",
       "      <th></th>\n",
       "      <th></th>\n",
       "      <th></th>\n",
       "      <th></th>\n",
       "    </tr>\n",
       "  </thead>\n",
       "  <tbody>\n",
       "    <tr>\n",
       "      <th>lp__</th>\n",
       "      <td>0.0</td>\n",
       "      <td>NaN</td>\n",
       "      <td>0.0</td>\n",
       "      <td>0.000</td>\n",
       "      <td>0.0</td>\n",
       "      <td>0.0</td>\n",
       "      <td>NaN</td>\n",
       "      <td>NaN</td>\n",
       "      <td>NaN</td>\n",
       "    </tr>\n",
       "    <tr>\n",
       "      <th>alpha</th>\n",
       "      <td>44000.0</td>\n",
       "      <td>78.000</td>\n",
       "      <td>2500.0</td>\n",
       "      <td>40000.000</td>\n",
       "      <td>44000.0</td>\n",
       "      <td>48000.0</td>\n",
       "      <td>1000.0</td>\n",
       "      <td>1600.0</td>\n",
       "      <td>1.0</td>\n",
       "    </tr>\n",
       "    <tr>\n",
       "      <th>beta</th>\n",
       "      <td>280.0</td>\n",
       "      <td>4.900</td>\n",
       "      <td>150.0</td>\n",
       "      <td>38.000</td>\n",
       "      <td>280.0</td>\n",
       "      <td>540.0</td>\n",
       "      <td>970.0</td>\n",
       "      <td>1600.0</td>\n",
       "      <td>1.0</td>\n",
       "    </tr>\n",
       "    <tr>\n",
       "      <th>sigma</th>\n",
       "      <td>1.9</td>\n",
       "      <td>0.064</td>\n",
       "      <td>2.0</td>\n",
       "      <td>0.075</td>\n",
       "      <td>1.3</td>\n",
       "      <td>6.2</td>\n",
       "      <td>950.0</td>\n",
       "      <td>1500.0</td>\n",
       "      <td>1.0</td>\n",
       "    </tr>\n",
       "    <tr>\n",
       "      <th>price[1]</th>\n",
       "      <td>836709.0</td>\n",
       "      <td>13762.000</td>\n",
       "      <td>428119.0</td>\n",
       "      <td>150223.000</td>\n",
       "      <td>835852.0</td>\n",
       "      <td>1541240.0</td>\n",
       "      <td>968.0</td>\n",
       "      <td>1556.0</td>\n",
       "      <td>1.0</td>\n",
       "    </tr>\n",
       "    <tr>\n",
       "      <th>...</th>\n",
       "      <td>...</td>\n",
       "      <td>...</td>\n",
       "      <td>...</td>\n",
       "      <td>...</td>\n",
       "      <td>...</td>\n",
       "      <td>...</td>\n",
       "      <td>...</td>\n",
       "      <td>...</td>\n",
       "      <td>...</td>\n",
       "    </tr>\n",
       "    <tr>\n",
       "      <th>price[996]</th>\n",
       "      <td>257068.0</td>\n",
       "      <td>3705.000</td>\n",
       "      <td>115181.0</td>\n",
       "      <td>73427.000</td>\n",
       "      <td>257151.0</td>\n",
       "      <td>443970.0</td>\n",
       "      <td>967.0</td>\n",
       "      <td>1554.0</td>\n",
       "      <td>1.0</td>\n",
       "    </tr>\n",
       "    <tr>\n",
       "      <th>price[997]</th>\n",
       "      <td>634972.0</td>\n",
       "      <td>10261.000</td>\n",
       "      <td>319200.0</td>\n",
       "      <td>123494.000</td>\n",
       "      <td>634430.0</td>\n",
       "      <td>1159190.0</td>\n",
       "      <td>968.0</td>\n",
       "      <td>1556.0</td>\n",
       "      <td>1.0</td>\n",
       "    </tr>\n",
       "    <tr>\n",
       "      <th>price[998]</th>\n",
       "      <td>694641.0</td>\n",
       "      <td>11297.000</td>\n",
       "      <td>351415.0</td>\n",
       "      <td>131399.000</td>\n",
       "      <td>694035.0</td>\n",
       "      <td>1272180.0</td>\n",
       "      <td>968.0</td>\n",
       "      <td>1556.0</td>\n",
       "      <td>1.0</td>\n",
       "    </tr>\n",
       "    <tr>\n",
       "      <th>price[999]</th>\n",
       "      <td>401979.0</td>\n",
       "      <td>6219.000</td>\n",
       "      <td>193409.0</td>\n",
       "      <td>92623.000</td>\n",
       "      <td>402127.0</td>\n",
       "      <td>717947.0</td>\n",
       "      <td>967.0</td>\n",
       "      <td>1555.0</td>\n",
       "      <td>1.0</td>\n",
       "    </tr>\n",
       "    <tr>\n",
       "      <th>price[1000]</th>\n",
       "      <td>828185.0</td>\n",
       "      <td>13614.000</td>\n",
       "      <td>423517.0</td>\n",
       "      <td>149100.000</td>\n",
       "      <td>827311.0</td>\n",
       "      <td>1525090.0</td>\n",
       "      <td>968.0</td>\n",
       "      <td>1556.0</td>\n",
       "      <td>1.0</td>\n",
       "    </tr>\n",
       "  </tbody>\n",
       "</table>\n",
       "<p>1004 rows × 9 columns</p>\n",
       "</div>"
      ],
      "text/plain": [
       "                 Mean       MCSE    StdDev          5%       50%        95%  \\\n",
       "name                                                                          \n",
       "lp__              0.0        NaN       0.0       0.000       0.0        0.0   \n",
       "alpha         44000.0     78.000    2500.0   40000.000   44000.0    48000.0   \n",
       "beta            280.0      4.900     150.0      38.000     280.0      540.0   \n",
       "sigma             1.9      0.064       2.0       0.075       1.3        6.2   \n",
       "price[1]     836709.0  13762.000  428119.0  150223.000  835852.0  1541240.0   \n",
       "...               ...        ...       ...         ...       ...        ...   \n",
       "price[996]   257068.0   3705.000  115181.0   73427.000  257151.0   443970.0   \n",
       "price[997]   634972.0  10261.000  319200.0  123494.000  634430.0  1159190.0   \n",
       "price[998]   694641.0  11297.000  351415.0  131399.000  694035.0  1272180.0   \n",
       "price[999]   401979.0   6219.000  193409.0   92623.000  402127.0   717947.0   \n",
       "price[1000]  828185.0  13614.000  423517.0  149100.000  827311.0  1525090.0   \n",
       "\n",
       "              N_Eff  N_Eff/s  R_hat  \n",
       "name                                 \n",
       "lp__            NaN      NaN    NaN  \n",
       "alpha        1000.0   1600.0    1.0  \n",
       "beta          970.0   1600.0    1.0  \n",
       "sigma         950.0   1500.0    1.0  \n",
       "price[1]      968.0   1556.0    1.0  \n",
       "...             ...      ...    ...  \n",
       "price[996]    967.0   1554.0    1.0  \n",
       "price[997]    968.0   1556.0    1.0  \n",
       "price[998]    968.0   1556.0    1.0  \n",
       "price[999]    967.0   1555.0    1.0  \n",
       "price[1000]   968.0   1556.0    1.0  \n",
       "\n",
       "[1004 rows x 9 columns]"
      ]
     },
     "execution_count": 34,
     "metadata": {},
     "output_type": "execute_result"
    }
   ],
   "source": [
    "model_1_prior_simulated.summary()"
   ]
  },
  {
   "cell_type": "code",
   "execution_count": 39,
   "metadata": {},
   "outputs": [
    {
     "data": {
      "image/png": "[encoded data removed]",
      "text/plain": [
       "<Figure size 432x288 with 1 Axes>"
      ]
     },
     "metadata": {
      "needs_background": "light"
     },
     "output_type": "display_data"
    },
    {
     "data": {
      "image/png": "[encoded data removed]",
      "text/plain": [
       "<Figure size 432x288 with 1 Axes>"
      ]
     },
     "metadata": {
      "needs_background": "light"
     },
     "output_type": "display_data"
    }
   ],
   "source": [
    "prices_sim=model_1_prior_simulated.stan_variable('price')\n",
    "plt.scatter(df['sqft_living'], df[\"price\"])\n",
    "plt.title(\"Sqft / price\")\n",
    "plt.show()\n",
    "\n",
    "prices_sim=model_1_prior_simulated.stan_variable('price')\n",
    "\n",
    "for i in range(0,len(df['sqft_living'])):\n",
    "    plt.scatter(df['sqft_living'], prices_sim[i], color=\"g\")\n",
    "\n",
    "plt.title(\"Sqft / price\")\n",
    "plt.show()"
   ]
  },
  {
   "cell_type": "code",
   "execution_count": 45,
   "metadata": {},
   "outputs": [
    {
     "name": "stderr",
     "output_type": "stream",
     "text": [
      "INFO:cmdstanpy:compiling stan file /home/nicolas/Projects/DA_project/stan_2_ppc.stan to exe file /home/nicolas/Projects/DA_project/stan_2_ppc\n",
      "INFO:cmdstanpy:compiled model executable: /home/nicolas/Projects/DA_project/stan_2_ppc\n",
      "WARNING:cmdstanpy:Stan compiler has produced 2 warnings:\n",
      "WARNING:cmdstanpy:\n",
      "--- Translating Stan model to C++ code ---\n",
      "bin/stanc  --o=/home/nicolas/Projects/DA_project/stan_2_ppc.hpp /home/nicolas/Projects/DA_project/stan_2_ppc.stan\n",
      "Warning in '/home/nicolas/Projects/DA_project/stan_2_ppc.stan', line 3, column 4: Declaration\n",
      "    of arrays by placing brackets after a variable name is deprecated and\n",
      "    will be removed in Stan 2.32.0. Instead use the array keyword before the\n",
      "    type. This can be changed automatically using the auto-format flag to\n",
      "    stanc\n",
      "Warning in '/home/nicolas/Projects/DA_project/stan_2_ppc.stan', line 10, column 4: Declaration\n",
      "    of arrays by placing brackets after a variable name is deprecated and\n",
      "    will be removed in Stan 2.32.0. Instead use the array keyword before the\n",
      "    type. This can be changed automatically using the auto-format flag to\n",
      "    stanc\n",
      "\n",
      "--- Compiling, linking C++ code ---\n",
      "/home/nicolas/anaconda3/envs/cmdstan/bin/x86_64-conda-linux-gnu-c++ -fvisibility-inlines-hidden -std=c++17 -fmessage-length=0 -march=nocona -mtune=haswell -ftree-vectorize -fPIC -fstack-protector-strong -fno-plt -O2 -ffunction-sections -pipe -isystem /home/nicolas/anaconda3/envs/cmdstan/include -std=c++1y -D_REENTRANT -Wno-sign-compare -Wno-ignored-attributes      -I /home/nicolas/anaconda3/envs/cmdstan/include/    -O3 -I src -I stan/src -I lib/rapidjson_1.1.0/ -I lib/CLI11-1.9.1/ -I stan/lib/stan_math/ -I stan/lib/stan_math/lib/eigen_3.3.9 -I stan/lib/stan_math/lib/boost_1.75.0 -I stan/lib/stan_math/lib/sundials_6.0.0/include -I stan/lib/stan_math/lib/sundials_6.0.0/src/sundials -DNDEBUG -D_FORTIFY_SOURCE=2 -O2 -isystem /home/nicolas/anaconda3/envs/cmdstan/include    -DBOOST_DISABLE_ASSERTS   -DTBB_INTERFACE_NEW  -DTBB_INTERFACE_NEW     -c  -x c++ -o /home/nicolas/Projects/DA_project/stan_2_ppc.o /home/nicolas/Projects/DA_project/stan_2_ppc.hpp\n",
      "/home/nicolas/anaconda3/envs/cmdstan/bin/x86_64-conda-linux-gnu-c++ -fvisibility-inlines-hidden -std=c++17 -fmessage-length=0 -march=nocona -mtune=haswell -ftree-vectorize -fPIC -fstack-protector-strong -fno-plt -O2 -ffunction-sections -pipe -isystem /home/nicolas/anaconda3/envs/cmdstan/include -std=c++1y -D_REENTRANT -Wno-sign-compare -Wno-ignored-attributes      -I /home/nicolas/anaconda3/envs/cmdstan/include/    -O3 -I src -I stan/src -I lib/rapidjson_1.1.0/ -I lib/CLI11-1.9.1/ -I stan/lib/stan_math/ -I stan/lib/stan_math/lib/eigen_3.3.9 -I stan/lib/stan_math/lib/boost_1.75.0 -I stan/lib/stan_math/lib/sundials_6.0.0/include -I stan/lib/stan_math/lib/sundials_6.0.0/src/sundials -DNDEBUG -D_FORTIFY_SOURCE=2 -O2 -isystem /home/nicolas/anaconda3/envs/cmdstan/include    -DBOOST_DISABLE_ASSERTS   -DTBB_INTERFACE_NEW  -DTBB_INTERFACE_NEW    -Wl,-O2 -Wl,--sort-common -Wl,--as-needed -Wl,-z,relro -Wl,-z,now -Wl,--disable-new-dtags -Wl,--gc-sections -Wl,-rpath,/home/nicolas/anaconda3/envs/cmdstan/lib -Wl,-rpath-link,/home/nicolas/anaconda3/envs/cmdstan/lib -L/home/nicolas/anaconda3/envs/cmdstan/lib        -Wl,-L,\"/home/nicolas/anaconda3/envs/cmdstan/lib/\" -Wl,-rpath,\"/home/nicolas/anaconda3/envs/cmdstan/lib/\" -Wl,--disable-new-dtags -ltbb    /home/nicolas/Projects/DA_project/stan_2_ppc.o src/cmdstan/main.o        -Wl,-L,\"/home/nicolas/anaconda3/envs/cmdstan/lib/\" -Wl,-rpath,\"/home/nicolas/anaconda3/envs/cmdstan/lib/\" -Wl,--disable-new-dtags -ltbb stan/lib/stan_math/lib/sundials_6.0.0/lib/libsundials_nvecserial.a stan/lib/stan_math/lib/sundials_6.0.0/lib/libsundials_cvodes.a stan/lib/stan_math/lib/sundials_6.0.0/lib/libsundials_idas.a stan/lib/stan_math/lib/sundials_6.0.0/lib/libsundials_kinsol.a   -o /home/nicolas/Projects/DA_project/stan_2_ppc\n",
      "rm -f /home/nicolas/Projects/DA_project/stan_2_ppc.o\n",
      "\n",
      "INFO:cmdstanpy:CmdStan start processing\n",
      "chain 1 |\u001b[34m██████████\u001b[0m| 00:00 Sampling completed                      "
     ]
    },
    {
     "name": "stdout",
     "output_type": "stream",
     "text": [
      "                                                                                "
     ]
    },
    {
     "name": "stderr",
     "output_type": "stream",
     "text": [
      "\n",
      "INFO:cmdstanpy:CmdStan done processing.\n"
     ]
    },
    {
     "name": "stdout",
     "output_type": "stream",
     "text": [
      "\n"
     ]
    }
   ],
   "source": [
    "data = {'N': len(df['sqft_living']),\n",
    "        'sqft': df['sqft_living']}\n",
    "model_2_prior = CmdStanModel(stan_file='stan_2_ppc.stan')\n",
    "model_2_prior_simulated = model_2_prior.sample(data=data, iter_sampling=1000, iter_warmup=0, chains=1, refresh=1000, fixed_param=True, seed=21370204)"
   ]
  },
  {
   "cell_type": "code",
   "execution_count": 48,
   "metadata": {},
   "outputs": [
    {
     "data": {
      "image/png": "[encoded data removed]",
      "text/plain": [
       "<Figure size 432x288 with 1 Axes>"
      ]
     },
     "metadata": {
      "needs_background": "light"
     },
     "output_type": "display_data"
    }
   ],
   "source": [
    "prices_sim=model_2_prior_simulated.stan_variable('price')\n",
    "\n",
    "for i in range(0,len(df['sqft_living'])):\n",
    "    plt.scatter(df['sqft_living'], prices_sim[i], color=\"g\")\n",
    "\n",
    "plt.scatter(df['sqft_living'], df[\"price\"])\n",
    "\n",
    "plt.title(\"Sqft / price\")\n",
    "plt.show()"
   ]
  },
  {
   "cell_type": "code",
   "execution_count": null,
   "metadata": {},
   "outputs": [],
   "source": []
  },
  {
   "cell_type": "code",
   "execution_count": null,
   "metadata": {},
   "outputs": [],
   "source": []
  }
 ],
 "metadata": {
  "interpreter": {
   "hash": "ac19442bcc8f5dc288b190133b5edcf2a2e303ca99c919856ca726c1985e039d"
  },
  "kernelspec": {
   "display_name": "Python 3.8.12 ('cmdstan')",
   "language": "python",
   "name": "python3"
  },
  "language_info": {
   "codemirror_mode": {
    "name": "ipython",
    "version": 3
   },
   "file_extension": ".py",
   "mimetype": "text/x-python",
   "name": "python",
   "nbconvert_exporter": "python",
   "pygments_lexer": "ipython3",
   "version": "3.8.12"
  },
  "orig_nbformat": 4
 },
 "nbformat": 4,
 "nbformat_minor": 2
}
