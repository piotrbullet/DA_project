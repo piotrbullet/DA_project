{
 "cells": [
  {
   "cell_type": "markdown",
   "metadata": {},
   "source": [
    "# House pricing on the basis of square footage and realtor assesment"
   ]
  },
  {
   "cell_type": "markdown",
   "metadata": {},
   "source": [
    "## Introduction"
   ]
  },
  {
   "cell_type": "markdown",
   "metadata": {},
   "source": [
    "Authors:\n",
    " - Nicolas Duc\n",
    " - Piotr Kula"
   ]
  },
  {
   "cell_type": "markdown",
   "metadata": {},
   "source": [
    "#### Goal of this project \n",
    "The goal of this project is analysis of the market prices of houses on the basis of the square footage and the realtor's assesment.\n",
    "\n",
    "The proposed model can be then used to asses if the given price is a good deal and to check whether the house price is comparable to the market standard."
   ]
  },
  {
   "cell_type": "markdown",
   "metadata": {},
   "source": [
    "## Data"
   ]
  },
  {
   "cell_type": "markdown",
   "metadata": {},
   "source": [
    "The data was obtained from kaggle.com.\n",
    "\n",
    "Dataset contains different types of data such as numner of bedrooms, zipcode, year it was built, we only use the square footage of the living space and the grade that the realtor has given to the house.\n",
    "\n",
    "The dataset itself contains over 21000 records, however for the purpose of the project we sample 100 records that will later be used."
   ]
  },
  {
   "cell_type": "code",
   "execution_count": 1,
   "metadata": {},
   "outputs": [
    {
     "name": "stderr",
     "output_type": "stream",
     "text": [
      "c:\\miniconda3\\envs\\cmdstan\\lib\\site-packages\\tqdm\\auto.py:22: TqdmWarning: IProgress not found. Please update jupyter and ipywidgets. See https://ipywidgets.readthedocs.io/en/stable/user_install.html\n",
      "  from .autonotebook import tqdm as notebook_tqdm\n"
     ]
    },
    {
     "data": {
      "text/plain": [
       "541517.08"
      ]
     },
     "execution_count": 1,
     "metadata": {},
     "output_type": "execute_result"
    }
   ],
   "source": [
    "from cmdstanpy import CmdStanModel\n",
    "\n",
    "import arviz as az\n",
    "import numpy as np\n",
    "import scipy.stats as stats\n",
    "\n",
    "import matplotlib.pyplot as plt\n",
    "from matplotlib.gridspec import GridSpec\n",
    "import pandas as pd\n",
    "import random as rd\n",
    "# print(len(pd.read_csv('kc_house_data.csv')))\n",
    "df = (pd.read_csv(\"house_data_sampled.csv\").sample(100)).reset_index()\n",
    "# print(df.head())\n",
    "# df.columns\n",
    "df['price'].mean()"
   ]
  },
  {
   "cell_type": "code",
   "execution_count": 2,
   "metadata": {},
   "outputs": [
    {
     "name": "stdout",
     "output_type": "stream",
     "text": [
      "864.2521496541493\n",
      "2153.86\n",
      "0     2460\n",
      "1     1430\n",
      "2     3490\n",
      "3     2460\n",
      "4     3410\n",
      "      ... \n",
      "95    2240\n",
      "96    1610\n",
      "97    1600\n",
      "98    1730\n",
      "99    2330\n",
      "Name: sqft_living, Length: 100, dtype: int64\n",
      "0    0.354225\n",
      "1   -0.837556\n",
      "2    1.546007\n",
      "3    0.354225\n",
      "4    1.453442\n",
      "Name: sqft_living, dtype: float64\n",
      "0.3542253266277775\n"
     ]
    }
   ],
   "source": [
    "\n",
    "mean_sqft_living = (df['sqft_living']).mean()\n",
    "mean_grade = (df['grade']).mean()\n",
    "sd_sqft_living = (df['sqft_living']).std()\n",
    "print(sd_sqft_living)\n",
    "print(mean_sqft_living)\n",
    "sd_grade = (df['grade']).std()\n",
    "sqft_living_standardized = ((df['sqft_living']).copy())\n",
    "price_standardized = ((df['price']).copy())\n",
    "sqft_living_centered = ((df['sqft_living']).copy())\n",
    "\n",
    "grade_standardized = (df['grade']).copy()\n",
    "print(sqft_living_standardized)\n",
    "for i in range(len(df['sqft_living'])):\n",
    "    sqft_living_centered[i] = ((df['sqft_living'])[i]-mean_sqft_living)\n",
    "    sqft_living_standardized[i] = ((df['sqft_living'])[i]-mean_sqft_living)/sd_sqft_living\n",
    "    grade_standardized[i] = (df['grade'][i]-mean_grade)/sd_grade\n",
    "    price_standardized[i] = (df['price'][i]-(df['price']).mean())/(df['price']).std()\n",
    "print(sqft_living_standardized.head())\n",
    "print(sqft_living_standardized[0])\n",
    "# print(grade_standardized)"
   ]
  },
  {
   "cell_type": "code",
   "execution_count": 3,
   "metadata": {},
   "outputs": [
    {
     "name": "stdout",
     "output_type": "stream",
     "text": [
      "MIN: 0 MAX: 5\n"
     ]
    }
   ],
   "source": [
    "grade_moved = ((df['grade']).copy())\n",
    "for i in range(len(grade_moved)):\n",
    "    grade_moved[i] = int(grade_moved[i]-6)\n",
    "print(f\"MIN: {grade_moved.min()} MAX: {grade_moved.max()}\")"
   ]
  },
  {
   "cell_type": "code",
   "execution_count": 4,
   "metadata": {},
   "outputs": [
    {
     "name": "stdout",
     "output_type": "stream",
     "text": [
      "541517.08\n"
     ]
    }
   ],
   "source": [
    "mean_price = (df['price']).mean()\n",
    "print(mean_price)"
   ]
  },
  {
   "cell_type": "markdown",
   "metadata": {},
   "source": [
    "## Model 1 - one parameter"
   ]
  },
  {
   "cell_type": "markdown",
   "metadata": {},
   "source": [
    "### Prior"
   ]
  },
  {
   "cell_type": "markdown",
   "metadata": {},
   "source": [
    "The parameters for the prior have been selected on the basis of a "
   ]
  },
  {
   "cell_type": "markdown",
   "metadata": {},
   "source": [
    "The prior has is fed "
   ]
  },
  {
   "cell_type": "code",
   "execution_count": 74,
   "metadata": {},
   "outputs": [],
   "source": [
    "sqft_linspace = np.linspace(sqft_living_centered.min(),sqft_living_centered.max())\n",
    "data = {'N': len(sqft_linspace),\n",
    "        'sqft': sqft_linspace}"
   ]
  },
  {
   "cell_type": "code",
   "execution_count": 75,
   "metadata": {},
   "outputs": [
    {
     "name": "stderr",
     "output_type": "stream",
     "text": [
      "INFO:cmdstanpy:found newer exe file, not recompiling\n",
      "INFO:cmdstanpy:CmdStan start processing\n",
      "chain 1 |\u001b[34m██████████\u001b[0m| 00:00 Sampling completed"
     ]
    },
    {
     "name": "stdout",
     "output_type": "stream",
     "text": [
      "                                                                                "
     ]
    },
    {
     "name": "stderr",
     "output_type": "stream",
     "text": [
      "\n",
      "INFO:cmdstanpy:CmdStan done processing.\n"
     ]
    },
    {
     "name": "stdout",
     "output_type": "stream",
     "text": [
      "\n"
     ]
    }
   ],
   "source": [
    "one_param_ppc_a = CmdStanModel(stan_file='CommandFiles/one_param_ppc.stan')\n",
    "one_param_ppc_a_simulated = one_param_ppc_a.sample(data=data, iter_sampling=1000, iter_warmup=0, chains=1, refresh=1000, fixed_param=True, seed=21370204)"
   ]
  },
  {
   "cell_type": "code",
   "execution_count": 76,
   "metadata": {},
   "outputs": [
    {
     "data": {
      "image/png": "[encoded data removed]",
      "text/plain": [
       "<Figure size 1080x360 with 3 Axes>"
      ]
     },
     "metadata": {
      "needs_background": "light"
     },
     "output_type": "display_data"
    },
    {
     "data": {
      "text/html": [
       "<div>\n",
       "<style scoped>\n",
       "    .dataframe tbody tr th:only-of-type {\n",
       "        vertical-align: middle;\n",
       "    }\n",
       "\n",
       "    .dataframe tbody tr th {\n",
       "        vertical-align: top;\n",
       "    }\n",
       "\n",
       "    .dataframe thead th {\n",
       "        text-align: right;\n",
       "    }\n",
       "</style>\n",
       "<table border=\"1\" class=\"dataframe\">\n",
       "  <thead>\n",
       "    <tr style=\"text-align: right;\">\n",
       "      <th></th>\n",
       "      <th>mean</th>\n",
       "      <th>sd</th>\n",
       "      <th>hdi_3%</th>\n",
       "      <th>hdi_97%</th>\n",
       "    </tr>\n",
       "  </thead>\n",
       "  <tbody>\n",
       "    <tr>\n",
       "      <th>alpha</th>\n",
       "      <td>352321.48</td>\n",
       "      <td>158063.89</td>\n",
       "      <td>0.0</td>\n",
       "      <td>592987.00</td>\n",
       "    </tr>\n",
       "    <tr>\n",
       "      <th>beta</th>\n",
       "      <td>206.29</td>\n",
       "      <td>101.33</td>\n",
       "      <td>0.0</td>\n",
       "      <td>364.79</td>\n",
       "    </tr>\n",
       "    <tr>\n",
       "      <th>sigma</th>\n",
       "      <td>100.88</td>\n",
       "      <td>99.54</td>\n",
       "      <td>0.0</td>\n",
       "      <td>295.96</td>\n",
       "    </tr>\n",
       "  </tbody>\n",
       "</table>\n",
       "</div>"
      ],
      "text/plain": [
       "            mean         sd  hdi_3%    hdi_97%\n",
       "alpha  352321.48  158063.89     0.0  592987.00\n",
       "beta      206.29     101.33     0.0     364.79\n",
       "sigma     100.88      99.54     0.0     295.96"
      ]
     },
     "execution_count": 76,
     "metadata": {},
     "output_type": "execute_result"
    }
   ],
   "source": [
    "alpha_sim = one_param_ppc_a_simulated.stan_variable('alpha')\n",
    "beta_sim = one_param_ppc_a_simulated.stan_variable('beta')\n",
    "sigma_sim = one_param_ppc_a_simulated.stan_variable('sigma')\n",
    "price_sim = one_param_ppc_a_simulated.stan_variable('price')\n",
    "\n",
    "fig, axs = plt.subplots(1,3)\n",
    "fig.set_size_inches(15, 5)\n",
    "axs[0].hist(alpha_sim);\n",
    "axs[0].grid()\n",
    "axs[0].set_title('alpha')\n",
    "axs[1].hist(beta_sim);\n",
    "axs[1].grid()\n",
    "axs[1].set_title('beta')\n",
    "axs[2].hist(sigma_sim);\n",
    "axs[2].grid()\n",
    "axs[2].set_title('sigma')\n",
    "plt.show()\n",
    "\n",
    "az.summary(one_param_ppc_a_simulated,var_names=['alpha','beta','sigma'],round_to=2,kind='stats')"
   ]
  },
  {
   "cell_type": "code",
   "execution_count": 77,
   "metadata": {},
   "outputs": [
    {
     "data": {
      "image/png": "[encoded data removed]",
      "text/plain": [
       "<Figure size 504x288 with 1 Axes>"
      ]
     },
     "metadata": {
      "needs_background": "light"
     },
     "output_type": "display_data"
    }
   ],
   "source": [
    "alpha_sim=one_param_ppc_a_simulated.stan_variable('alpha')\n",
    "beta_sim=one_param_ppc_a_simulated.stan_variable('beta')\n",
    "\n",
    "# plt.plot(beta_sim)\n",
    "# plt.title(\"grade\")\n",
    "# plt.show()\n",
    "fig, axes = plt.subplots(1, 1, figsize=(7, 4))\n",
    "axes.hlines([0,(df['price']).max()],xmin=df['sqft_living'].min(),xmax=df['sqft_living'].max(),linestyle='--',color='black')\n",
    "for i in range(100):\n",
    "    axes.plot(df['sqft_living'],alpha_sim[i]+beta_sim[i]*sqft_living_centered, color = 'y',alpha=0.5,linewidth=0.5)"
   ]
  },
  {
   "cell_type": "markdown",
   "metadata": {},
   "source": [
    "### Posterior"
   ]
  },
  {
   "cell_type": "code",
   "execution_count": 12,
   "metadata": {},
   "outputs": [
    {
     "name": "stderr",
     "output_type": "stream",
     "text": [
      "INFO:cmdstanpy:compiling stan file C:\\STUFF\\8th_semester\\DA_project\\CommandFiles\\one_param.stan to exe file C:\\STUFF\\8th_semester\\DA_project\\CommandFiles\\one_param.exe\n",
      "INFO:cmdstanpy:compiled model executable: C:\\STUFF\\8th_semester\\DA_project\\CommandFiles\\one_param.exe\n",
      "WARNING:cmdstanpy:Stan compiler has produced 2 warnings:\n",
      "WARNING:cmdstanpy:\n",
      "--- Translating Stan model to C++ code ---\n",
      "bin/stanc.exe  --o=C:/STUFF/8th_semester/DA_project/CommandFiles/one_param.hpp C:/STUFF/8th_semester/DA_project/CommandFiles/one_param.stan\n",
      "Warning in 'C:/STUFF/8th_semester/DA_project/CommandFiles/one_param.stan', line 3, column 4: Declaration\n",
      "    of arrays by placing brackets after a variable name is deprecated and\n",
      "    will be removed in Stan 2.32.0. Instead use the array keyword before the\n",
      "    type. This can be changed automatically using the auto-format flag to\n",
      "    stanc\n",
      "Warning in 'C:/STUFF/8th_semester/DA_project/CommandFiles/one_param.stan', line 4, column 4: Declaration\n",
      "    of arrays by placing brackets after a variable name is deprecated and\n",
      "    will be removed in Stan 2.32.0. Instead use the array keyword before the\n",
      "    type. This can be changed automatically using the auto-format flag to\n",
      "    stanc\n",
      "\n",
      "--- Compiling, linking C++ code ---\n",
      "g++ -std=c++1y -m64 -D_REENTRANT -Wall -Wno-unused-function -Wno-uninitialized -Wno-unused-but-set-variable -Wno-unused-variable -Wno-sign-compare -Wno-unused-local-typedefs -Wno-int-in-bool-context -Wno-attributes -Wno-ignored-attributes      -I stan/lib/stan_math/lib/tbb_2020.3/include    -O3 -I src -I stan/src -I lib/rapidjson_1.1.0/ -I lib/CLI11-1.9.1/ -I stan/lib/stan_math/ -I stan/lib/stan_math/lib/eigen_3.3.9 -I stan/lib/stan_math/lib/boost_1.75.0 -I stan/lib/stan_math/lib/sundials_6.0.0/include -I stan/lib/stan_math/lib/sundials_6.0.0/src/sundials  -D_USE_MATH_DEFINES  -DBOOST_DISABLE_ASSERTS          -c  -x c++ -o C:/STUFF/8th_semester/DA_project/CommandFiles/one_param.o C:/STUFF/8th_semester/DA_project/CommandFiles/one_param.hpp\n",
      "g++ -std=c++1y -m64 -D_REENTRANT -Wall -Wno-unused-function -Wno-uninitialized -Wno-unused-but-set-variable -Wno-unused-variable -Wno-sign-compare -Wno-unused-local-typedefs -Wno-int-in-bool-context -Wno-attributes -Wno-ignored-attributes      -I stan/lib/stan_math/lib/tbb_2020.3/include    -O3 -I src -I stan/src -I lib/rapidjson_1.1.0/ -I lib/CLI11-1.9.1/ -I stan/lib/stan_math/ -I stan/lib/stan_math/lib/eigen_3.3.9 -I stan/lib/stan_math/lib/boost_1.75.0 -I stan/lib/stan_math/lib/sundials_6.0.0/include -I stan/lib/stan_math/lib/sundials_6.0.0/src/sundials  -D_USE_MATH_DEFINES  -DBOOST_DISABLE_ASSERTS                -Wl,-L,\"C:/miniconda3/envs/cmdstan/Library/bin/cmdstan/stan/lib/stan_math/lib/tbb\" -Wl,-rpath,\"C:/miniconda3/envs/cmdstan/Library/bin/cmdstan/stan/lib/stan_math/lib/tbb\"      C:/STUFF/8th_semester/DA_project/CommandFiles/one_param.o src/cmdstan/main.o  -static-libgcc -static-libstdc++      -Wl,-L,\"C:/miniconda3/envs/cmdstan/Library/bin/cmdstan/stan/lib/stan_math/lib/tbb\" -Wl,-rpath,\"C:/miniconda3/envs/cmdstan/Library/bin/cmdstan/stan/lib/stan_math/lib/tbb\"   stan/lib/stan_math/lib/sundials_6.0.0/lib/libsundials_nvecserial.a stan/lib/stan_math/lib/sundials_6.0.0/lib/libsundials_cvodes.a stan/lib/stan_math/lib/sundials_6.0.0/lib/libsundials_idas.a stan/lib/stan_math/lib/sundials_6.0.0/lib/libsundials_kinsol.a  stan/lib/stan_math/lib/tbb/tbb.dll -o C:/STUFF/8th_semester/DA_project/CommandFiles/one_param.exe\n",
      "rm -f C:/STUFF/8th_semester/DA_project/CommandFiles/one_param.o\n",
      "\n",
      "INFO:cmdstanpy:CmdStan start processing\n",
      "chain 1 |\u001b[33m          \u001b[0m| 00:00 Status\n",
      "\u001b[A\n",
      "\n",
      "\u001b[A\u001b[A\n",
      "\n",
      "\u001b[A\u001b[A\n",
      "\n",
      "chain 1 |\u001b[33m▉         \u001b[0m| 00:00 Iteration:    1 / 2000 [  0%]  (Warmup)\n",
      "chain 1 |\u001b[33m████▌     \u001b[0m| 00:00 Iteration:  800 / 2000 [ 40%]  (Warmup)\n",
      "\n",
      "\u001b[A\u001b[A\n",
      "chain 1 |\u001b[34m██████▊   \u001b[0m| 00:00 Iteration: 1200 / 2000 [ 60%]  (Sampling)\n",
      "\n",
      "\u001b[A\u001b[A\n",
      "chain 1 |\u001b[34m████████▋ \u001b[0m| 00:00 Iteration: 1600 / 2000 [ 80%]  (Sampling)\n",
      "\n",
      "\u001b[A\u001b[A\n",
      "chain 1 |\u001b[34m██████████\u001b[0m| 00:01 Sampling completed                       \n",
      "chain 2 |\u001b[34m██████████\u001b[0m| 00:01 Sampling completed                       \n",
      "chain 3 |\u001b[34m██████████\u001b[0m| 00:01 Sampling completed                       \n",
      "chain 4 |\u001b[34m██████████\u001b[0m| 00:01 Sampling completed                       "
     ]
    },
    {
     "name": "stdout",
     "output_type": "stream",
     "text": [
      "                                                                                                                                                                                                                                                                                                                                "
     ]
    },
    {
     "name": "stderr",
     "output_type": "stream",
     "text": [
      "\n",
      "INFO:cmdstanpy:CmdStan done processing.\n"
     ]
    },
    {
     "name": "stdout",
     "output_type": "stream",
     "text": [
      "\n"
     ]
    }
   ],
   "source": [
    "data = {'N': len(sqft_living_centered),\n",
    "        'sqft': sqft_living_centered,\n",
    "        'price': df['price']}\n",
    "one_param = CmdStanModel(stan_file='CommandFiles/one_param.stan')\n",
    "one_param_simulated = one_param.sample(data=data, seed=21370204)"
   ]
  },
  {
   "cell_type": "code",
   "execution_count": 13,
   "metadata": {},
   "outputs": [
    {
     "data": {
      "image/png": "[encoded data removed]",
      "text/plain": [
       "<Figure size 1080x360 with 3 Axes>"
      ]
     },
     "metadata": {
      "needs_background": "light"
     },
     "output_type": "display_data"
    },
    {
     "data": {
      "text/html": [
       "<div>\n",
       "<style scoped>\n",
       "    .dataframe tbody tr th:only-of-type {\n",
       "        vertical-align: middle;\n",
       "    }\n",
       "\n",
       "    .dataframe tbody tr th {\n",
       "        vertical-align: top;\n",
       "    }\n",
       "\n",
       "    .dataframe thead th {\n",
       "        text-align: right;\n",
       "    }\n",
       "</style>\n",
       "<table border=\"1\" class=\"dataframe\">\n",
       "  <thead>\n",
       "    <tr style=\"text-align: right;\">\n",
       "      <th></th>\n",
       "      <th>mean</th>\n",
       "      <th>sd</th>\n",
       "      <th>hdi_3%</th>\n",
       "      <th>hdi_97%</th>\n",
       "    </tr>\n",
       "  </thead>\n",
       "  <tbody>\n",
       "    <tr>\n",
       "      <th>alpha</th>\n",
       "      <td>540735.27</td>\n",
       "      <td>6903.63</td>\n",
       "      <td>527817.00</td>\n",
       "      <td>553643.00</td>\n",
       "    </tr>\n",
       "    <tr>\n",
       "      <th>beta</th>\n",
       "      <td>245.73</td>\n",
       "      <td>7.96</td>\n",
       "      <td>230.46</td>\n",
       "      <td>259.87</td>\n",
       "    </tr>\n",
       "    <tr>\n",
       "      <th>sigma</th>\n",
       "      <td>68771.90</td>\n",
       "      <td>1434.28</td>\n",
       "      <td>66119.40</td>\n",
       "      <td>71400.40</td>\n",
       "    </tr>\n",
       "  </tbody>\n",
       "</table>\n",
       "</div>"
      ],
      "text/plain": [
       "            mean       sd     hdi_3%    hdi_97%\n",
       "alpha  540735.27  6903.63  527817.00  553643.00\n",
       "beta      245.73     7.96     230.46     259.87\n",
       "sigma   68771.90  1434.28   66119.40   71400.40"
      ]
     },
     "execution_count": 13,
     "metadata": {},
     "output_type": "execute_result"
    }
   ],
   "source": [
    "alpha_sim = one_param_simulated.stan_variable('alpha')\n",
    "beta_sim = one_param_simulated.stan_variable('beta')\n",
    "sigma_sim = one_param_simulated.stan_variable('sigma')\n",
    "price_sim = one_param_simulated.stan_variable('price_sim')\n",
    "\n",
    "fig, axs = plt.subplots(1,3)\n",
    "fig.set_size_inches(15, 5)\n",
    "axs[0].hist(alpha_sim)\n",
    "axs[0].grid()\n",
    "axs[0].set_title('alpha')\n",
    "axs[1].hist(beta_sim)\n",
    "axs[1].grid()\n",
    "axs[1].set_title('beta')\n",
    "axs[2].hist(sigma_sim)\n",
    "axs[2].grid()\n",
    "axs[2].set_title('sigma')\n",
    "plt.show()\n",
    "\n",
    "az.summary(one_param_simulated,var_names=['alpha','beta','sigma'],round_to=2,kind='stats')"
   ]
  },
  {
   "cell_type": "code",
   "execution_count": 14,
   "metadata": {},
   "outputs": [
    {
     "data": {
      "image/png": "[encoded data removed]",
      "text/plain": [
       "<Figure size 432x288 with 1 Axes>"
      ]
     },
     "metadata": {
      "needs_background": "light"
     },
     "output_type": "display_data"
    }
   ],
   "source": [
    "prices_sim=one_param_simulated.stan_variable('price_sim')\n",
    "\n",
    "# for i in range(0,len(df['sqft_living'])):\n",
    "for i in range(100):\n",
    "    plt.scatter(sqft_living_centered, prices_sim[i], color=\"y\", alpha=0.1)\n",
    "\n",
    "plt.scatter(sqft_living_centered, df[\"price\"])\n",
    "\n",
    "plt.title(\"Sqft / price\")\n",
    "plt.show()"
   ]
  },
  {
   "cell_type": "markdown",
   "metadata": {},
   "source": [
    "## Model 2 - linear grade"
   ]
  },
  {
   "cell_type": "markdown",
   "metadata": {},
   "source": [
    "### Prior"
   ]
  },
  {
   "cell_type": "code",
   "execution_count": 79,
   "metadata": {},
   "outputs": [
    {
     "name": "stderr",
     "output_type": "stream",
     "text": [
      "INFO:cmdstanpy:compiling stan file C:\\STUFF\\8th_semester\\DA_project\\CommandFiles\\two_params_ppc.stan to exe file C:\\STUFF\\8th_semester\\DA_project\\CommandFiles\\two_params_ppc.exe\n",
      "INFO:cmdstanpy:compiled model executable: C:\\STUFF\\8th_semester\\DA_project\\CommandFiles\\two_params_ppc.exe\n",
      "INFO:cmdstanpy:CmdStan start processing\n",
      "chain 1 |\u001b[34m██████████\u001b[0m| 00:00 Sampling completed                      "
     ]
    },
    {
     "name": "stdout",
     "output_type": "stream",
     "text": [
      "                                                                                "
     ]
    },
    {
     "name": "stderr",
     "output_type": "stream",
     "text": [
      "\n",
      "INFO:cmdstanpy:CmdStan done processing.\n"
     ]
    },
    {
     "name": "stdout",
     "output_type": "stream",
     "text": [
      "\n"
     ]
    }
   ],
   "source": [
    "sqft_linspace = np.linspace(sqft_living_standardized.min(),sqft_living_standardized.max())\n",
    "grade_linspace = np.linspace(grade_standardized.min(),grade_standardized.max())\n",
    "\n",
    "data = {'N': len(sqft_linspace),\n",
    "        'sqft': sqft_linspace,\n",
    "        'grade': grade_linspace}\n",
    "two_params_ppc = CmdStanModel(stan_file='CommandFiles/two_params_ppc.stan')\n",
    "two_params_ppc_simulated = two_params_ppc.sample(data=data, iter_sampling=1000, iter_warmup=0, chains=1, refresh=1000, fixed_param=True, seed=21370204)"
   ]
  },
  {
   "cell_type": "code",
   "execution_count": 80,
   "metadata": {},
   "outputs": [
    {
     "data": {
      "image/png": "[encoded data removed]",
      "text/plain": [
       "<Figure size 1080x360 with 4 Axes>"
      ]
     },
     "metadata": {
      "needs_background": "light"
     },
     "output_type": "display_data"
    },
    {
     "data": {
      "text/html": [
       "<div>\n",
       "<style scoped>\n",
       "    .dataframe tbody tr th:only-of-type {\n",
       "        vertical-align: middle;\n",
       "    }\n",
       "\n",
       "    .dataframe tbody tr th {\n",
       "        vertical-align: top;\n",
       "    }\n",
       "\n",
       "    .dataframe thead th {\n",
       "        text-align: right;\n",
       "    }\n",
       "</style>\n",
       "<table border=\"1\" class=\"dataframe\">\n",
       "  <thead>\n",
       "    <tr style=\"text-align: right;\">\n",
       "      <th></th>\n",
       "      <th>mean</th>\n",
       "      <th>sd</th>\n",
       "      <th>hdi_3%</th>\n",
       "      <th>hdi_97%</th>\n",
       "    </tr>\n",
       "  </thead>\n",
       "  <tbody>\n",
       "    <tr>\n",
       "      <th>alpha</th>\n",
       "      <td>117473.18</td>\n",
       "      <td>212057.61</td>\n",
       "      <td>0.0</td>\n",
       "      <td>500546.00</td>\n",
       "    </tr>\n",
       "    <tr>\n",
       "      <th>beta_sqft</th>\n",
       "      <td>199.86</td>\n",
       "      <td>474.90</td>\n",
       "      <td>0.0</td>\n",
       "      <td>1204.33</td>\n",
       "    </tr>\n",
       "    <tr>\n",
       "      <th>beta_grade</th>\n",
       "      <td>188.80</td>\n",
       "      <td>437.14</td>\n",
       "      <td>0.0</td>\n",
       "      <td>1190.80</td>\n",
       "    </tr>\n",
       "    <tr>\n",
       "      <th>sigma</th>\n",
       "      <td>23.35</td>\n",
       "      <td>64.51</td>\n",
       "      <td>0.0</td>\n",
       "      <td>128.99</td>\n",
       "    </tr>\n",
       "  </tbody>\n",
       "</table>\n",
       "</div>"
      ],
      "text/plain": [
       "                 mean         sd  hdi_3%    hdi_97%\n",
       "alpha       117473.18  212057.61     0.0  500546.00\n",
       "beta_sqft      199.86     474.90     0.0    1204.33\n",
       "beta_grade     188.80     437.14     0.0    1190.80\n",
       "sigma           23.35      64.51     0.0     128.99"
      ]
     },
     "execution_count": 80,
     "metadata": {},
     "output_type": "execute_result"
    }
   ],
   "source": [
    "alpha_sim = two_params_ppc_simulated.stan_variable('alpha')\n",
    "beta_grade_sim = two_params_ppc_simulated.stan_variable('beta_grade')\n",
    "beta_sqft_sim = two_params_ppc_simulated.stan_variable('beta_sqft')\n",
    "sigma_sim = two_params_ppc_simulated.stan_variable('sigma')\n",
    "# price_sim = two_params_ppc_simulated.stan_variable('price_sim')\n",
    "\n",
    "fig, axs = plt.subplots(1,4)\n",
    "fig.set_size_inches(15, 5)\n",
    "axs[0].hist(alpha_sim)\n",
    "axs[0].grid()\n",
    "axs[0].set_title('alpha')\n",
    "axs[1].hist(beta_sqft_sim)\n",
    "axs[1].grid()\n",
    "axs[1].set_title('beta_sqft')\n",
    "axs[2].hist(beta_grade_sim)\n",
    "axs[2].grid()\n",
    "axs[2].set_title('beta_grade')\n",
    "axs[3].hist(sigma_sim)\n",
    "axs[3].grid()\n",
    "axs[3].set_title('sigma')\n",
    "plt.show()\n",
    "\n",
    "az.summary(two_params_ppc_simulated,var_names=['alpha','beta_sqft', 'beta_grade','sigma'],round_to=2,kind='stats')"
   ]
  },
  {
   "cell_type": "markdown",
   "metadata": {},
   "source": [
    "### Posterior"
   ]
  },
  {
   "cell_type": "code",
   "execution_count": null,
   "metadata": {},
   "outputs": [],
   "source": [
    "data = {'N': len(sqft_living_standardized),\n",
    "        'sqft_living': sqft_living_standardized,\n",
    "        'grade': grade_standardized,\n",
    "        'price': price_standardized}\n",
    "two_params = CmdStanModel(stan_file='CommandFiles/two_params.stan')\n",
    "two_params_simulated = two_params.sample(data=data, seed=21370204)"
   ]
  },
  {
   "cell_type": "code",
   "execution_count": null,
   "metadata": {},
   "outputs": [],
   "source": [
    "alpha_sim = two_params_simulated.stan_variable('alpha')\n",
    "beta_living_sim = two_params_simulated.stan_variable('beta_sqft_living')\n",
    "beta_grade_sim = two_params_simulated.stan_variable('beta_grade')\n",
    "sigma_sim = two_params_simulated.stan_variable('sigma')\n",
    "price_sim = two_params_simulated.stan_variable('prices')\n",
    "\n",
    "fig, axs = plt.subplots(2,2)\n",
    "fig.set_size_inches(20, 10)\n",
    "axs[0][0].plot(alpha_sim)\n",
    "axs[0][0].grid()\n",
    "axs[0][0].set_title('alpha')\n",
    "axs[0][1].plot(beta_living_sim)\n",
    "axs[0][1].grid()\n",
    "axs[0][1].set_title('beta_grade')\n",
    "axs[1][0].plot(beta_grade_sim)\n",
    "axs[1][0].grid()\n",
    "axs[1][0].set_title('beta_grade_sim')\n",
    "axs[1][1].plot(sigma_sim)\n",
    "axs[1][1].grid()\n",
    "axs[1][1].set_title('sigma')\n",
    "plt.show()\n",
    "\n",
    "az.summary(\n",
    "    two_params_simulated,\n",
    "    var_names=['alpha','beta_sqft_living', 'beta_grade','sigma'],\n",
    "    round_to=2,kind='stats'\n",
    "    )"
   ]
  },
  {
   "cell_type": "code",
   "execution_count": null,
   "metadata": {},
   "outputs": [],
   "source": [
    "price_sim = two_params_simulated.stan_variable('prices')\n",
    "\n",
    "\n",
    "for i in range(100):\n",
    "    plt.scatter(sqft_living_standardized, price_sim[i], color=\"y\", alpha=0.1)\n",
    "\n",
    "plt.scatter(sqft_living_standardized,price_standardized)\n",
    "plt.legend([\"sim\", \"real\"])\n",
    "plt.show()\n",
    "\n",
    "for i in range(100):\n",
    "    plt.scatter(grade_standardized, price_sim[i], color=\"y\", alpha=0.1)\n",
    "plt.scatter(grade_standardized,price_standardized)\n",
    "plt.legend([\"sim\", \"real\"])"
   ]
  },
  {
   "cell_type": "markdown",
   "metadata": {},
   "source": [
    "## Model 3 - discrete grade"
   ]
  },
  {
   "cell_type": "markdown",
   "metadata": {},
   "source": [
    "### Prior"
   ]
  },
  {
   "cell_type": "code",
   "execution_count": 75,
   "metadata": {},
   "outputs": [
    {
     "name": "stderr",
     "output_type": "stream",
     "text": [
      "INFO:cmdstanpy:found newer exe file, not recompiling\n",
      "INFO:cmdstanpy:CmdStan start processing\n",
      "chain 1 |\u001b[34m██████████\u001b[0m| 00:00 Sampling completed"
     ]
    },
    {
     "name": "stdout",
     "output_type": "stream",
     "text": [
      "                                                                                "
     ]
    },
    {
     "name": "stderr",
     "output_type": "stream",
     "text": [
      "\n",
      "INFO:cmdstanpy:CmdStan done processing.\n"
     ]
    },
    {
     "name": "stdout",
     "output_type": "stream",
     "text": [
      "\n"
     ]
    }
   ],
   "source": [
    "sqft_linspace = np.linspace(sqft_living_standardized.min(),sqft_living_standardized.max())\n",
    "grade_in = grade_moved.sample(50).sort_values()\n",
    "\n",
    "data = {'N': len(sqft_linspace),\n",
    "        'sqft': sqft_linspace,\n",
    "        'grade': grade_in}\n",
    "two_params_discrete_ppc = CmdStanModel(stan_file='CommandFiles/two_param_discrete_ppc.stan')\n",
    "two_params_discrete_ppc_simulated = two_params_discrete_ppc.sample(data=data, iter_sampling=1000, iter_warmup=0, chains=1, refresh=1000, fixed_param=True, seed=21370204)"
   ]
  },
  {
   "cell_type": "code",
   "execution_count": null,
   "metadata": {},
   "outputs": [],
   "source": [
    "alpha_sim = two_params_discrete_ppc_simulated.stan_variable('alpha')\n",
    "beta_grade_sim = two_params_discrete_ppc_simulated.stan_variable('beta_grade')\n",
    "beta_sqft_sim = two_params_discrete_ppc_simulated.stan_variable('beta_sqft')\n",
    "sigma_sim = two_params_discrete_ppc_simulated.stan_variable('sigma')\n",
    "# price_sim = two_params_discrete_ppc_simulated.stan_variable('price_sim')\n",
    "\n",
    "fig, axs = plt.subplots(1,4)\n",
    "fig.set_size_inches(15, 5)\n",
    "axs[0].hist(alpha_sim)\n",
    "axs[0].grid()\n",
    "axs[0].set_title('alpha')\n",
    "axs[1].hist(beta_sqft_sim)\n",
    "axs[1].grid()\n",
    "axs[1].set_title('beta_sqft')\n",
    "axs[2].hist(beta_grade_sim)\n",
    "axs[2].grid()\n",
    "axs[2].set_title('beta_grade')\n",
    "axs[3].hist(sigma_sim)\n",
    "axs[3].grid()\n",
    "axs[3].set_title('sigma')\n",
    "plt.show()\n",
    "\n",
    "az.summary(two_params_ppc_simulated,var_names=['alpha','beta_sqft', 'beta_grade','sigma'],round_to=2,kind='stats')"
   ]
  },
  {
   "cell_type": "markdown",
   "metadata": {},
   "source": [
    "### Posterior"
   ]
  },
  {
   "cell_type": "code",
   "execution_count": 78,
   "metadata": {},
   "outputs": [
    {
     "name": "stderr",
     "output_type": "stream",
     "text": [
      "INFO:cmdstanpy:compiling stan file C:\\STUFF\\8th_semester\\DA_project\\CommandFiles\\two_param_discrete.stan to exe file C:\\STUFF\\8th_semester\\DA_project\\CommandFiles\\two_param_discrete.exe\n",
      "INFO:cmdstanpy:compiled model executable: C:\\STUFF\\8th_semester\\DA_project\\CommandFiles\\two_param_discrete.exe\n",
      "WARNING:cmdstanpy:Stan compiler has produced 4 warnings:\n",
      "WARNING:cmdstanpy:\n",
      "--- Translating Stan model to C++ code ---\n",
      "bin/stanc.exe  --o=C:/STUFF/8th_semester/DA_project/CommandFiles/two_param_discrete.hpp C:/STUFF/8th_semester/DA_project/CommandFiles/two_param_discrete.stan\n",
      "Warning in 'C:/STUFF/8th_semester/DA_project/CommandFiles/two_param_discrete.stan', line 4, column 4: Declaration\n",
      "    of arrays by placing brackets after a variable name is deprecated and\n",
      "    will be removed in Stan 2.32.0. Instead use the array keyword before the\n",
      "    type. This can be changed automatically using the auto-format flag to\n",
      "    stanc\n",
      "Warning in 'C:/STUFF/8th_semester/DA_project/CommandFiles/two_param_discrete.stan', line 5, column 4: Declaration\n",
      "    of arrays by placing brackets after a variable name is deprecated and\n",
      "    will be removed in Stan 2.32.0. Instead use the array keyword before the\n",
      "    type. This can be changed automatically using the auto-format flag to\n",
      "    stanc\n",
      "Warning in 'C:/STUFF/8th_semester/DA_project/CommandFiles/two_param_discrete.stan', line 33, column 3: Declaration\n",
      "    of arrays by placing brackets after a variable name is deprecated and\n",
      "    will be removed in Stan 2.32.0. Instead use the array keyword before the\n",
      "    type. This can be changed automatically using the auto-format flag to\n",
      "    stanc\n",
      "Warning in 'C:/STUFF/8th_semester/DA_project/CommandFiles/two_param_discrete.stan', line 34, column 3: Declaration\n",
      "    of arrays by placing brackets after a variable name is deprecated and\n",
      "    will be removed in Stan 2.32.0. Instead use the array keyword before the\n",
      "    type. This can be changed automatically using the auto-format flag to\n",
      "    stanc\n",
      "\n",
      "--- Compiling, linking C++ code ---\n",
      "g++ -std=c++1y -m64 -D_REENTRANT -Wall -Wno-unused-function -Wno-uninitialized -Wno-unused-but-set-variable -Wno-unused-variable -Wno-sign-compare -Wno-unused-local-typedefs -Wno-int-in-bool-context -Wno-attributes -Wno-ignored-attributes      -I stan/lib/stan_math/lib/tbb_2020.3/include    -O3 -I src -I stan/src -I lib/rapidjson_1.1.0/ -I lib/CLI11-1.9.1/ -I stan/lib/stan_math/ -I stan/lib/stan_math/lib/eigen_3.3.9 -I stan/lib/stan_math/lib/boost_1.75.0 -I stan/lib/stan_math/lib/sundials_6.0.0/include -I stan/lib/stan_math/lib/sundials_6.0.0/src/sundials  -D_USE_MATH_DEFINES  -DBOOST_DISABLE_ASSERTS          -c  -x c++ -o C:/STUFF/8th_semester/DA_project/CommandFiles/two_param_discrete.o C:/STUFF/8th_semester/DA_project/CommandFiles/two_param_discrete.hpp\n",
      "g++ -std=c++1y -m64 -D_REENTRANT -Wall -Wno-unused-function -Wno-uninitialized -Wno-unused-but-set-variable -Wno-unused-variable -Wno-sign-compare -Wno-unused-local-typedefs -Wno-int-in-bool-context -Wno-attributes -Wno-ignored-attributes      -I stan/lib/stan_math/lib/tbb_2020.3/include    -O3 -I src -I stan/src -I lib/rapidjson_1.1.0/ -I lib/CLI11-1.9.1/ -I stan/lib/stan_math/ -I stan/lib/stan_math/lib/eigen_3.3.9 -I stan/lib/stan_math/lib/boost_1.75.0 -I stan/lib/stan_math/lib/sundials_6.0.0/include -I stan/lib/stan_math/lib/sundials_6.0.0/src/sundials  -D_USE_MATH_DEFINES  -DBOOST_DISABLE_ASSERTS                -Wl,-L,\"C:/miniconda3/envs/cmdstan/Library/bin/cmdstan/stan/lib/stan_math/lib/tbb\" -Wl,-rpath,\"C:/miniconda3/envs/cmdstan/Library/bin/cmdstan/stan/lib/stan_math/lib/tbb\"      C:/STUFF/8th_semester/DA_project/CommandFiles/two_param_discrete.o src/cmdstan/main.o  -static-libgcc -static-libstdc++      -Wl,-L,\"C:/miniconda3/envs/cmdstan/Library/bin/cmdstan/stan/lib/stan_math/lib/tbb\" -Wl,-rpath,\"C:/miniconda3/envs/cmdstan/Library/bin/cmdstan/stan/lib/stan_math/lib/tbb\"   stan/lib/stan_math/lib/sundials_6.0.0/lib/libsundials_nvecserial.a stan/lib/stan_math/lib/sundials_6.0.0/lib/libsundials_cvodes.a stan/lib/stan_math/lib/sundials_6.0.0/lib/libsundials_idas.a stan/lib/stan_math/lib/sundials_6.0.0/lib/libsundials_kinsol.a  stan/lib/stan_math/lib/tbb/tbb.dll -o C:/STUFF/8th_semester/DA_project/CommandFiles/two_param_discrete.exe\n",
      "rm -f C:/STUFF/8th_semester/DA_project/CommandFiles/two_param_discrete.o\n",
      "\n",
      "INFO:cmdstanpy:CmdStan start processing\n",
      "chain 1 |\u001b[33m          \u001b[0m| 00:00 Status\n",
      "\u001b[A\n",
      "\n",
      "chain 1 |\u001b[33m▉         \u001b[0m| 00:00 Iteration:    1 / 2000 [  0%]  (Warmup)\n",
      "\n",
      "\u001b[A\u001b[A\n",
      "\u001b[A\n",
      "\u001b[A\n",
      "\n",
      "chain 1 |\u001b[33m█▊        \u001b[0m| 00:01 Iteration:  200 / 2000 [ 10%]  (Warmup)\n",
      "\u001b[A\n",
      "\n",
      "chain 1 |\u001b[33m██▎       \u001b[0m| 00:01 Iteration:  300 / 2000 [ 15%]  (Warmup)\n",
      "\u001b[A\n",
      "\n",
      "chain 1 |\u001b[33m██▋       \u001b[0m| 00:02 Iteration:  400 / 2000 [ 20%]  (Warmup)\n",
      "\u001b[A\n",
      "\n",
      "chain 1 |\u001b[33m███▏      \u001b[0m| 00:02 Iteration:  500 / 2000 [ 25%]  (Warmup)\n",
      "\u001b[A\n",
      "\n",
      "chain 1 |\u001b[33m███▋      \u001b[0m| 00:03 Iteration:  600 / 2000 [ 30%]  (Warmup)\n",
      "chain 1 |\u001b[33m████      \u001b[0m| 00:04 Iteration:  700 / 2000 [ 35%]  (Warmup)\n",
      "\n",
      "\u001b[A\u001b[A\n",
      "\u001b[A\n",
      "\n",
      "chain 1 |\u001b[33m████▌     \u001b[0m| 00:04 Iteration:  800 / 2000 [ 40%]  (Warmup)\n",
      "\u001b[A\n",
      "\n",
      "chain 1 |\u001b[33m█████     \u001b[0m| 00:05 Iteration:  900 / 2000 [ 45%]  (Warmup)\n",
      "\u001b[A\n",
      "\n",
      "chain 1 |\u001b[34m█████▉    \u001b[0m| 00:06 Iteration: 1001 / 2000 [ 50%]  (Sampling)\n",
      "chain 1 |\u001b[34m██████▎   \u001b[0m| 00:06 Iteration: 1100 / 2000 [ 55%]  (Sampling)\n",
      "\n",
      "\u001b[A\u001b[A\n",
      "chain 1 |\u001b[34m██████▊   \u001b[0m| 00:07 Iteration: 1200 / 2000 [ 60%]  (Sampling)\n",
      "\n",
      "\u001b[A\u001b[A\n",
      "\u001b[A\n",
      "\n",
      "chain 1 |\u001b[34m███████▎  \u001b[0m| 00:08 Iteration: 1300 / 2000 [ 65%]  (Sampling)\n",
      "\u001b[A\n",
      "\n",
      "chain 1 |\u001b[34m███████▋  \u001b[0m| 00:08 Iteration: 1400 / 2000 [ 70%]  (Sampling)\n",
      "\u001b[A\n",
      "\n",
      "chain 1 |\u001b[34m████████▏ \u001b[0m| 00:09 Iteration: 1500 / 2000 [ 75%]  (Sampling)\n",
      "chain 1 |\u001b[34m████████▋ \u001b[0m| 00:10 Iteration: 1600 / 2000 [ 80%]  (Sampling)\n",
      "\n",
      "\u001b[A\u001b[A\n",
      "chain 1 |\u001b[34m█████████ \u001b[0m| 00:11 Iteration: 1700 / 2000 [ 85%]  (Sampling)\n",
      "\u001b[A\n",
      "\n",
      "chain 1 |\u001b[34m█████████▌\u001b[0m| 00:11 Iteration: 1800 / 2000 [ 90%]  (Sampling)\n",
      "\u001b[A\n",
      "\n",
      "chain 1 |\u001b[34m██████████\u001b[0m| 00:12 Iteration: 1900 / 2000 [ 95%]  (Sampling)\n",
      "\u001b[A\n",
      "\n",
      "chain 1 |\u001b[34m██████████\u001b[0m| 00:13 Sampling completed                       \n",
      "chain 2 |\u001b[34m██████████\u001b[0m| 00:13 Sampling completed                       \n",
      "chain 3 |\u001b[34m██████████\u001b[0m| 00:13 Sampling completed                       \n",
      "chain 4 |\u001b[34m██████████\u001b[0m| 00:13 Sampling completed                       "
     ]
    },
    {
     "name": "stdout",
     "output_type": "stream",
     "text": [
      "                                                                                                                                                                                                                                                                                                                                "
     ]
    },
    {
     "name": "stderr",
     "output_type": "stream",
     "text": [
      "\n",
      "INFO:cmdstanpy:CmdStan done processing.\n"
     ]
    },
    {
     "name": "stdout",
     "output_type": "stream",
     "text": [
      "\n"
     ]
    }
   ],
   "source": [
    "data = {'N': len(sqft_living_standardized),\n",
    "        'sqft_living': sqft_living_standardized,\n",
    "        'grade': grade_moved,\n",
    "        'price': price_standardized}\n",
    "two_params_discrete = CmdStanModel(stan_file='CommandFiles/two_param_discrete.stan')\n",
    "two_params_simulated_discrete = two_params_discrete.sample(data=data, seed=21370204)"
   ]
  },
  {
   "cell_type": "code",
   "execution_count": 20,
   "metadata": {},
   "outputs": [
    {
     "name": "stderr",
     "output_type": "stream",
     "text": [
      "INFO:cmdstanpy:found newer exe file, not recompiling\n",
      "INFO:cmdstanpy:CmdStan start processing\n",
      "chain 1 |\u001b[33m          \u001b[0m| 00:00 Status\n",
      "\u001b[A\n",
      "\n",
      "chain 1 |\u001b[33m██▎       \u001b[0m| 00:00 Iteration:  300 / 2000 [ 15%]  (Warmup)\n",
      "\u001b[A\n",
      "\n",
      "chain 1 |\u001b[34m█████▉    \u001b[0m| 00:00 Iteration: 1001 / 2000 [ 50%]  (Sampling)\n",
      "\u001b[A\n",
      "\n",
      "chain 1 |\u001b[34m████████▋ \u001b[0m| 00:00 Iteration: 1600 / 2000 [ 80%]  (Sampling)\n",
      "\n",
      "\u001b[A\u001b[A\n",
      "chain 1 |\u001b[34m██████████\u001b[0m| 00:00 Sampling completed                       \n",
      "chain 2 |\u001b[34m██████████\u001b[0m| 00:00 Sampling completed                       \n",
      "chain 3 |\u001b[34m██████████\u001b[0m| 00:00 Sampling completed                       \n",
      "chain 4 |\u001b[34m██████████\u001b[0m| 00:00 Sampling completed                       "
     ]
    },
    {
     "name": "stdout",
     "output_type": "stream",
     "text": [
      "                                                                                                                                                                                                                                                                                                                                "
     ]
    },
    {
     "name": "stderr",
     "output_type": "stream",
     "text": [
      "\n",
      "INFO:cmdstanpy:CmdStan done processing.\n"
     ]
    },
    {
     "name": "stdout",
     "output_type": "stream",
     "text": [
      "\n"
     ]
    }
   ],
   "source": [
    "data = {'N': len(sqft_living_standardized),\n",
    "        'sqft_living': sqft_living_standardized,\n",
    "        'grade': grade_standardized,\n",
    "        'price': price_standardized}\n",
    "two_params = CmdStanModel(stan_file='CommandFiles/two_params.stan')\n",
    "two_params_simulated = two_params.sample(data=data, seed=21370204)"
   ]
  },
  {
   "cell_type": "markdown",
   "metadata": {},
   "source": [
    "## Comparison of models"
   ]
  },
  {
   "cell_type": "markdown",
   "metadata": {},
   "source": [
    "### Comparison of all three models"
   ]
  },
  {
   "cell_type": "code",
   "execution_count": null,
   "metadata": {},
   "outputs": [],
   "source": [
    "idata1 = az.from_cmdstanpy(posterior = one_param_simulated, log_likelihood = \"log_lik\");\n",
    "idata2 = az.from_cmdstanpy(posterior = two_params_simulated, log_likelihood = \"log_lik\");\n",
    "idata3 = az.from_cmdstanpy(posterior=two_params_simulated_discrete, log_likelihood=\"log_lik\") ;\n",
    "compare_dict = {\"one_param_model\": idata1, \"two_param_model\": idata2, \"two_param_discrete\": idata3};\n",
    "\n",
    "out_loo = az.compare(compare_dict, ic = \"loo\");\n",
    "out_waic = az.compare(compare_dict, ic = \"waic\"); # loo stands for leave one out cross validation"
   ]
  },
  {
   "cell_type": "markdown",
   "metadata": {},
   "source": [
    "az.plot_compare(out_loo)\n",
    "out_loo"
   ]
  },
  {
   "cell_type": "markdown",
   "metadata": {},
   "source": [
    "az.plot_compare(out_waic)\n",
    "out_waic"
   ]
  },
  {
   "cell_type": "markdown",
   "metadata": {},
   "source": [
    "### Comparison of models with two parameters"
   ]
  },
  {
   "cell_type": "code",
   "execution_count": null,
   "metadata": {},
   "outputs": [],
   "source": [
    "# Comparing 2 models: model_1 - with AGE only, model_2 - with AGE and BMI\n",
    "idata2 = az.from_cmdstanpy(posterior = two_params_simulated, log_likelihood = \"log_lik\")\n",
    "idata3 = az.from_cmdstanpy(posterior=two_params_simulated_discrete, log_likelihood=\"log_lik\") \n",
    "compare_dict = {\"two_param_model\": idata2, \"two_param_discrete\": idata3}\n",
    "\n",
    "out_loo = az.compare(compare_dict, ic = \"loo\")\n",
    "out_waic = az.compare(compare_dict, ic = \"waic\") # loo stands for leave one out cross validation"
   ]
  },
  {
   "cell_type": "code",
   "execution_count": 24,
   "metadata": {},
   "outputs": [
    {
     "data": {
      "text/html": [
       "<div>\n",
       "<style scoped>\n",
       "    .dataframe tbody tr th:only-of-type {\n",
       "        vertical-align: middle;\n",
       "    }\n",
       "\n",
       "    .dataframe tbody tr th {\n",
       "        vertical-align: top;\n",
       "    }\n",
       "\n",
       "    .dataframe thead th {\n",
       "        text-align: right;\n",
       "    }\n",
       "</style>\n",
       "<table border=\"1\" class=\"dataframe\">\n",
       "  <thead>\n",
       "    <tr style=\"text-align: right;\">\n",
       "      <th></th>\n",
       "      <th>rank</th>\n",
       "      <th>loo</th>\n",
       "      <th>p_loo</th>\n",
       "      <th>d_loo</th>\n",
       "      <th>weight</th>\n",
       "      <th>se</th>\n",
       "      <th>dse</th>\n",
       "      <th>warning</th>\n",
       "      <th>loo_scale</th>\n",
       "    </tr>\n",
       "  </thead>\n",
       "  <tbody>\n",
       "    <tr>\n",
       "      <th>two_param_discrete</th>\n",
       "      <td>0</td>\n",
       "      <td>-99.979261</td>\n",
       "      <td>8.668769</td>\n",
       "      <td>0.000000</td>\n",
       "      <td>0.559463</td>\n",
       "      <td>8.685397</td>\n",
       "      <td>0.000000</td>\n",
       "      <td>False</td>\n",
       "      <td>log</td>\n",
       "    </tr>\n",
       "    <tr>\n",
       "      <th>two_param_model</th>\n",
       "      <td>1</td>\n",
       "      <td>-100.917468</td>\n",
       "      <td>4.617652</td>\n",
       "      <td>0.938207</td>\n",
       "      <td>0.440537</td>\n",
       "      <td>8.754549</td>\n",
       "      <td>4.543933</td>\n",
       "      <td>False</td>\n",
       "      <td>log</td>\n",
       "    </tr>\n",
       "  </tbody>\n",
       "</table>\n",
       "</div>"
      ],
      "text/plain": [
       "                    rank         loo     p_loo     d_loo    weight        se  \\\n",
       "two_param_discrete     0  -99.979261  8.668769  0.000000  0.559463  8.685397   \n",
       "two_param_model        1 -100.917468  4.617652  0.938207  0.440537  8.754549   \n",
       "\n",
       "                         dse  warning loo_scale  \n",
       "two_param_discrete  0.000000    False       log  \n",
       "two_param_model     4.543933    False       log  "
      ]
     },
     "execution_count": 24,
     "metadata": {},
     "output_type": "execute_result"
    },
    {
     "data": {
      "image/png": "[encoded data removed]",
      "text/plain": [
       "<Figure size 432x144 with 1 Axes>"
      ]
     },
     "metadata": {
      "needs_background": "light"
     },
     "output_type": "display_data"
    }
   ],
   "source": [
    "az.plot_compare(out_loo)\n",
    "out_loo"
   ]
  },
  {
   "cell_type": "code",
   "execution_count": 17,
   "metadata": {},
   "outputs": [
    {
     "data": {
      "text/html": [
       "<div>\n",
       "<style scoped>\n",
       "    .dataframe tbody tr th:only-of-type {\n",
       "        vertical-align: middle;\n",
       "    }\n",
       "\n",
       "    .dataframe tbody tr th {\n",
       "        vertical-align: top;\n",
       "    }\n",
       "\n",
       "    .dataframe thead th {\n",
       "        text-align: right;\n",
       "    }\n",
       "</style>\n",
       "<table border=\"1\" class=\"dataframe\">\n",
       "  <thead>\n",
       "    <tr style=\"text-align: right;\">\n",
       "      <th></th>\n",
       "      <th>rank</th>\n",
       "      <th>waic</th>\n",
       "      <th>p_waic</th>\n",
       "      <th>d_waic</th>\n",
       "      <th>weight</th>\n",
       "      <th>se</th>\n",
       "      <th>dse</th>\n",
       "      <th>warning</th>\n",
       "      <th>waic_scale</th>\n",
       "    </tr>\n",
       "  </thead>\n",
       "  <tbody>\n",
       "    <tr>\n",
       "      <th>two_param_model</th>\n",
       "      <td>0</td>\n",
       "      <td>-99.745539</td>\n",
       "      <td>8.435046</td>\n",
       "      <td>0.000000</td>\n",
       "      <td>1.000000e+00</td>\n",
       "      <td>8.658074</td>\n",
       "      <td>0.000000</td>\n",
       "      <td>True</td>\n",
       "      <td>log</td>\n",
       "    </tr>\n",
       "    <tr>\n",
       "      <th>one_param_model</th>\n",
       "      <td>1</td>\n",
       "      <td>-1614.114163</td>\n",
       "      <td>27.789668</td>\n",
       "      <td>1514.368625</td>\n",
       "      <td>1.158639e-09</td>\n",
       "      <td>65.436963</td>\n",
       "      <td>58.632821</td>\n",
       "      <td>True</td>\n",
       "      <td>log</td>\n",
       "    </tr>\n",
       "  </tbody>\n",
       "</table>\n",
       "</div>"
      ],
      "text/plain": [
       "                 rank         waic     p_waic       d_waic        weight  \\\n",
       "two_param_model     0   -99.745539   8.435046     0.000000  1.000000e+00   \n",
       "one_param_model     1 -1614.114163  27.789668  1514.368625  1.158639e-09   \n",
       "\n",
       "                        se        dse  warning waic_scale  \n",
       "two_param_model   8.658074   0.000000     True        log  \n",
       "one_param_model  65.436963  58.632821     True        log  "
      ]
     },
     "execution_count": 17,
     "metadata": {},
     "output_type": "execute_result"
    },
    {
     "data": {
      "image/png": "[encoded data removed]",
      "text/plain": [
       "<Figure size 432x144 with 1 Axes>"
      ]
     },
     "metadata": {
      "needs_background": "light"
     },
     "output_type": "display_data"
    }
   ],
   "source": [
    "az.plot_compare(out_waic)\n",
    "out_waic\n"
   ]
  },
  {
   "cell_type": "markdown",
   "metadata": {},
   "source": [
    "1. The warnings are most likey caused by the outliers in the data: https://discourse.mc-stan.org/t/number-of-points-with-pareto-k-0-7-increases-when-a-subset-of-the-data-set-is-used/91081."
   ]
  }
 ],
 "metadata": {
  "kernelspec": {
   "display_name": "Python 3.10.4 ('cmdstan')",
   "language": "python",
   "name": "python3"
  },
  "language_info": {
   "codemirror_mode": {
    "name": "ipython",
    "version": 3
   },
   "file_extension": ".py",
   "mimetype": "text/x-python",
   "name": "python",
   "nbconvert_exporter": "python",
   "pygments_lexer": "ipython3",
   "version": "3.10.4"
  },
  "orig_nbformat": 4,
  "vscode": {
   "interpreter": {
    "hash": "c6b78216d01b078b67c913f155c040603b38d46829e7619682caa40b07c23cb5"
   }
  }
 },
 "nbformat": 4,
 "nbformat_minor": 2
}
